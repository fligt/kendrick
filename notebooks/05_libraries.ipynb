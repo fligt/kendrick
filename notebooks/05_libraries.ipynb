{
 "cells": [
  {
   "cell_type": "raw",
   "metadata": {},
   "source": [
    "---\n",
    "execute: \n",
    "  enabled: true\n",
    "---"
   ]
  },
  {
   "cell_type": "markdown",
   "metadata": {},
   "source": [
    "# Python packages for mass spectrometry "
   ]
  },
  {
   "cell_type": "markdown",
   "metadata": {},
   "source": [
    "> Learn to code, code to learn -- High Resolution Mass Spectrometry "
   ]
  },
  {
   "cell_type": "markdown",
   "metadata": {},
   "source": [
    "An initial search for python packages to analyze high resolution mass spectrometry data, I found a few that seem rather useful. I will quickly explore them below. "
   ]
  },
  {
   "cell_type": "markdown",
   "metadata": {},
   "source": [
    "## Exploring `molmass` "
   ]
  },
  {
   "cell_type": "markdown",
   "metadata": {},
   "source": [
    "The `molmass` package can be installed from the Python package index: [https://pypi.org/project/molmass/](https://pypi.org/project/molmass/)."
   ]
  },
  {
   "cell_type": "markdown",
   "metadata": {},
   "source": [
    "::: {.callout-warning} \n",
    "The latest version of `molmass` requires Python version 3.8. \n",
    ":::"
   ]
  },
  {
   "cell_type": "code",
   "execution_count": null,
   "metadata": {},
   "outputs": [],
   "source": [
    "import molmass \n",
    "import numpy as np \n",
    "import pandas as pd "
   ]
  },
  {
   "cell_type": "markdown",
   "metadata": {},
   "source": [
    "You can check your version of a package with the `.__version__` attribute. "
   ]
  },
  {
   "cell_type": "code",
   "execution_count": null,
   "metadata": {},
   "outputs": [
    {
     "data": {
      "text/plain": [
       "'2021.6.18'"
      ]
     },
     "execution_count": null,
     "metadata": {},
     "output_type": "execute_result"
    }
   ],
   "source": [
    "molmass.__version__"
   ]
  },
  {
   "cell_type": "markdown",
   "metadata": {},
   "source": [
    "Let's explore the properties of caffeine. "
   ]
  },
  {
   "cell_type": "code",
   "execution_count": null,
   "metadata": {},
   "outputs": [],
   "source": [
    "from molmass import Formula\n",
    "f = Formula('C8H10N4O2')  # Caffeine "
   ]
  },
  {
   "cell_type": "markdown",
   "metadata": {},
   "source": [
    "And look up the *nominal* and *monoisotopic mass*. "
   ]
  },
  {
   "cell_type": "code",
   "execution_count": null,
   "metadata": {},
   "outputs": [
    {
     "name": "stdout",
     "output_type": "stream",
     "text": [
      "Caffeine: \n",
      "nominal_mass = 194 (u)\n",
      "monoisotopic mass = 194.08037557916 (u)\n"
     ]
    }
   ],
   "source": [
    "#|code-fold: true \n",
    "# f.nominal_mass (does not work with python 3.7) \n",
    "# instead use:  \n",
    "m_nominal = f.isotope.massnumber \n",
    "\n",
    "# f.monoisotopic_mass  \n",
    "# instead use: \n",
    "m_monoisotopic = f.isotope.mass \n",
    "\n",
    "print(f'Caffeine: \\nnominal_mass = {m_nominal} (u)\\nmonoisotopic mass = {m_monoisotopic} (u)')"
   ]
  },
  {
   "cell_type": "markdown",
   "metadata": {},
   "source": [
    "Next, let's compute the mass spectrum for caffeine for all the different isotope combinations. "
   ]
  },
  {
   "cell_type": "code",
   "execution_count": null,
   "metadata": {},
   "outputs": [
    {
     "data": {
      "text/html": [
       "<div>\n",
       "<style scoped>\n",
       "    .dataframe tbody tr th:only-of-type {\n",
       "        vertical-align: middle;\n",
       "    }\n",
       "\n",
       "    .dataframe tbody tr th {\n",
       "        vertical-align: top;\n",
       "    }\n",
       "\n",
       "    .dataframe thead th {\n",
       "        text-align: right;\n",
       "    }\n",
       "</style>\n",
       "<table border=\"1\" class=\"dataframe\">\n",
       "  <thead>\n",
       "    <tr style=\"text-align: right;\">\n",
       "      <th></th>\n",
       "      <th>mass</th>\n",
       "      <th>intensity</th>\n",
       "    </tr>\n",
       "  </thead>\n",
       "  <tbody>\n",
       "    <tr>\n",
       "      <th>0</th>\n",
       "      <td>194.080376</td>\n",
       "      <td>8.988278e-01</td>\n",
       "    </tr>\n",
       "    <tr>\n",
       "      <th>1</th>\n",
       "      <td>195.082873</td>\n",
       "      <td>9.262511e-02</td>\n",
       "    </tr>\n",
       "    <tr>\n",
       "      <th>2</th>\n",
       "      <td>196.084968</td>\n",
       "      <td>8.021964e-03</td>\n",
       "    </tr>\n",
       "    <tr>\n",
       "      <th>3</th>\n",
       "      <td>197.087214</td>\n",
       "      <td>5.004776e-04</td>\n",
       "    </tr>\n",
       "    <tr>\n",
       "      <th>4</th>\n",
       "      <td>198.089410</td>\n",
       "      <td>2.370420e-05</td>\n",
       "    </tr>\n",
       "    <tr>\n",
       "      <th>5</th>\n",
       "      <td>199.091577</td>\n",
       "      <td>9.094718e-07</td>\n",
       "    </tr>\n",
       "    <tr>\n",
       "      <th>6</th>\n",
       "      <td>200.093998</td>\n",
       "      <td>2.635600e-08</td>\n",
       "    </tr>\n",
       "    <tr>\n",
       "      <th>7</th>\n",
       "      <td>201.097088</td>\n",
       "      <td>2.028664e-10</td>\n",
       "    </tr>\n",
       "  </tbody>\n",
       "</table>\n",
       "</div>"
      ],
      "text/plain": [
       "         mass     intensity\n",
       "0  194.080376  8.988278e-01\n",
       "1  195.082873  9.262511e-02\n",
       "2  196.084968  8.021964e-03\n",
       "3  197.087214  5.004776e-04\n",
       "4  198.089410  2.370420e-05\n",
       "5  199.091577  9.094718e-07\n",
       "6  200.093998  2.635600e-08\n",
       "7  201.097088  2.028664e-10"
      ]
     },
     "execution_count": null,
     "metadata": {},
     "output_type": "execute_result"
    }
   ],
   "source": [
    "#|code-fold: true \n",
    "\n",
    "#peak_list = list(f.spectrum().items()) # works only with Pyhton 3.7\n",
    "\n",
    "xy_list = np.array([[194.08037557916003, 0.8988278103385703],\n",
    "                    [195.0828731981479, 0.0926251064131497],\n",
    "                    [196.08496800365222, 0.008021963997090535],\n",
    "                    [197.08721402707516, 0.0005004775601302562],\n",
    "                    [198.08941014605315, 2.3704201212500843e-05],\n",
    "                    [199.09157710672346, 9.094717506306198e-07],\n",
    "                    [200.09399808211242, 2.6356001478235125e-08],\n",
    "                    [201.09708815193596, 2.0286637467497437e-10]])\n",
    "\n",
    "\n",
    "x, y = xy_list.T\n",
    "data = {'mass': x, 'intensity': y}\n",
    "df = pd.DataFrame(data=data)\n",
    "\n",
    "df"
   ]
  },
  {
   "cell_type": "markdown",
   "metadata": {},
   "source": [
    "Let's try `plotly` to create an interactive plot..."
   ]
  },
  {
   "cell_type": "code",
   "execution_count": null,
   "metadata": {},
   "outputs": [],
   "source": [
    "import plotly.express as px"
   ]
  },
  {
   "cell_type": "code",
   "execution_count": null,
   "metadata": {},
   "outputs": [
    {
     "data": {
      "application/vnd.plotly.v1+json": {
       "config": {
        "plotlyServerURL": "https://plot.ly"
       },
       "data": [
        {
         "hovertemplate": "mass=%{x}<br>intensity=%{y}<extra></extra>",
         "legendgroup": "",
         "marker": {
          "color": "#636efa",
          "symbol": "circle"
         },
         "mode": "markers",
         "name": "",
         "orientation": "v",
         "showlegend": false,
         "type": "scatter",
         "x": [
          194.08037557916003,
          195.0828731981479,
          196.08496800365222,
          197.08721402707516,
          198.08941014605315,
          199.09157710672346,
          200.09399808211242,
          201.09708815193596
         ],
         "xaxis": "x",
         "y": [
          0.8988278103385701,
          0.09262510641314901,
          0.00802196399709,
          0.00050047756013,
          2.3704201212500843e-05,
          9.094717506306198e-07,
          2.635600147823511e-08,
          2.028663746749743e-10
         ],
         "yaxis": "y"
        }
       ],
       "layout": {
        "legend": {
         "tracegroupgap": 0
        },
        "template": {
         "data": {
          "bar": [
           {
            "error_x": {
             "color": "#2a3f5f"
            },
            "error_y": {
             "color": "#2a3f5f"
            },
            "marker": {
             "line": {
              "color": "#E5ECF6",
              "width": 0.5
             },
             "pattern": {
              "fillmode": "overlay",
              "size": 10,
              "solidity": 0.2
             }
            },
            "type": "bar"
           }
          ],
          "barpolar": [
           {
            "marker": {
             "line": {
              "color": "#E5ECF6",
              "width": 0.5
             },
             "pattern": {
              "fillmode": "overlay",
              "size": 10,
              "solidity": 0.2
             }
            },
            "type": "barpolar"
           }
          ],
          "carpet": [
           {
            "aaxis": {
             "endlinecolor": "#2a3f5f",
             "gridcolor": "white",
             "linecolor": "white",
             "minorgridcolor": "white",
             "startlinecolor": "#2a3f5f"
            },
            "baxis": {
             "endlinecolor": "#2a3f5f",
             "gridcolor": "white",
             "linecolor": "white",
             "minorgridcolor": "white",
             "startlinecolor": "#2a3f5f"
            },
            "type": "carpet"
           }
          ],
          "choropleth": [
           {
            "colorbar": {
             "outlinewidth": 0,
             "ticks": ""
            },
            "type": "choropleth"
           }
          ],
          "contour": [
           {
            "colorbar": {
             "outlinewidth": 0,
             "ticks": ""
            },
            "colorscale": [
             [
              0,
              "#0d0887"
             ],
             [
              0.11111111111111101,
              "#46039f"
             ],
             [
              0.22222222222222202,
              "#7201a8"
             ],
             [
              0.33333333333333304,
              "#9c179e"
             ],
             [
              0.44444444444444403,
              "#bd3786"
             ],
             [
              0.555555555555555,
              "#d8576b"
             ],
             [
              0.6666666666666661,
              "#ed7953"
             ],
             [
              0.777777777777777,
              "#fb9f3a"
             ],
             [
              0.8888888888888881,
              "#fdca26"
             ],
             [
              1,
              "#f0f921"
             ]
            ],
            "type": "contour"
           }
          ],
          "contourcarpet": [
           {
            "colorbar": {
             "outlinewidth": 0,
             "ticks": ""
            },
            "type": "contourcarpet"
           }
          ],
          "heatmap": [
           {
            "colorbar": {
             "outlinewidth": 0,
             "ticks": ""
            },
            "colorscale": [
             [
              0,
              "#0d0887"
             ],
             [
              0.11111111111111101,
              "#46039f"
             ],
             [
              0.22222222222222202,
              "#7201a8"
             ],
             [
              0.33333333333333304,
              "#9c179e"
             ],
             [
              0.44444444444444403,
              "#bd3786"
             ],
             [
              0.555555555555555,
              "#d8576b"
             ],
             [
              0.6666666666666661,
              "#ed7953"
             ],
             [
              0.777777777777777,
              "#fb9f3a"
             ],
             [
              0.8888888888888881,
              "#fdca26"
             ],
             [
              1,
              "#f0f921"
             ]
            ],
            "type": "heatmap"
           }
          ],
          "heatmapgl": [
           {
            "colorbar": {
             "outlinewidth": 0,
             "ticks": ""
            },
            "colorscale": [
             [
              0,
              "#0d0887"
             ],
             [
              0.11111111111111101,
              "#46039f"
             ],
             [
              0.22222222222222202,
              "#7201a8"
             ],
             [
              0.33333333333333304,
              "#9c179e"
             ],
             [
              0.44444444444444403,
              "#bd3786"
             ],
             [
              0.555555555555555,
              "#d8576b"
             ],
             [
              0.6666666666666661,
              "#ed7953"
             ],
             [
              0.777777777777777,
              "#fb9f3a"
             ],
             [
              0.8888888888888881,
              "#fdca26"
             ],
             [
              1,
              "#f0f921"
             ]
            ],
            "type": "heatmapgl"
           }
          ],
          "histogram": [
           {
            "marker": {
             "pattern": {
              "fillmode": "overlay",
              "size": 10,
              "solidity": 0.2
             }
            },
            "type": "histogram"
           }
          ],
          "histogram2d": [
           {
            "colorbar": {
             "outlinewidth": 0,
             "ticks": ""
            },
            "colorscale": [
             [
              0,
              "#0d0887"
             ],
             [
              0.11111111111111101,
              "#46039f"
             ],
             [
              0.22222222222222202,
              "#7201a8"
             ],
             [
              0.33333333333333304,
              "#9c179e"
             ],
             [
              0.44444444444444403,
              "#bd3786"
             ],
             [
              0.555555555555555,
              "#d8576b"
             ],
             [
              0.6666666666666661,
              "#ed7953"
             ],
             [
              0.777777777777777,
              "#fb9f3a"
             ],
             [
              0.8888888888888881,
              "#fdca26"
             ],
             [
              1,
              "#f0f921"
             ]
            ],
            "type": "histogram2d"
           }
          ],
          "histogram2dcontour": [
           {
            "colorbar": {
             "outlinewidth": 0,
             "ticks": ""
            },
            "colorscale": [
             [
              0,
              "#0d0887"
             ],
             [
              0.11111111111111101,
              "#46039f"
             ],
             [
              0.22222222222222202,
              "#7201a8"
             ],
             [
              0.33333333333333304,
              "#9c179e"
             ],
             [
              0.44444444444444403,
              "#bd3786"
             ],
             [
              0.555555555555555,
              "#d8576b"
             ],
             [
              0.6666666666666661,
              "#ed7953"
             ],
             [
              0.777777777777777,
              "#fb9f3a"
             ],
             [
              0.8888888888888881,
              "#fdca26"
             ],
             [
              1,
              "#f0f921"
             ]
            ],
            "type": "histogram2dcontour"
           }
          ],
          "mesh3d": [
           {
            "colorbar": {
             "outlinewidth": 0,
             "ticks": ""
            },
            "type": "mesh3d"
           }
          ],
          "parcoords": [
           {
            "line": {
             "colorbar": {
              "outlinewidth": 0,
              "ticks": ""
             }
            },
            "type": "parcoords"
           }
          ],
          "pie": [
           {
            "automargin": true,
            "type": "pie"
           }
          ],
          "scatter": [
           {
            "fillpattern": {
             "fillmode": "overlay",
             "size": 10,
             "solidity": 0.2
            },
            "type": "scatter"
           }
          ],
          "scatter3d": [
           {
            "line": {
             "colorbar": {
              "outlinewidth": 0,
              "ticks": ""
             }
            },
            "marker": {
             "colorbar": {
              "outlinewidth": 0,
              "ticks": ""
             }
            },
            "type": "scatter3d"
           }
          ],
          "scattercarpet": [
           {
            "marker": {
             "colorbar": {
              "outlinewidth": 0,
              "ticks": ""
             }
            },
            "type": "scattercarpet"
           }
          ],
          "scattergeo": [
           {
            "marker": {
             "colorbar": {
              "outlinewidth": 0,
              "ticks": ""
             }
            },
            "type": "scattergeo"
           }
          ],
          "scattergl": [
           {
            "marker": {
             "colorbar": {
              "outlinewidth": 0,
              "ticks": ""
             }
            },
            "type": "scattergl"
           }
          ],
          "scattermapbox": [
           {
            "marker": {
             "colorbar": {
              "outlinewidth": 0,
              "ticks": ""
             }
            },
            "type": "scattermapbox"
           }
          ],
          "scatterpolar": [
           {
            "marker": {
             "colorbar": {
              "outlinewidth": 0,
              "ticks": ""
             }
            },
            "type": "scatterpolar"
           }
          ],
          "scatterpolargl": [
           {
            "marker": {
             "colorbar": {
              "outlinewidth": 0,
              "ticks": ""
             }
            },
            "type": "scatterpolargl"
           }
          ],
          "scatterternary": [
           {
            "marker": {
             "colorbar": {
              "outlinewidth": 0,
              "ticks": ""
             }
            },
            "type": "scatterternary"
           }
          ],
          "surface": [
           {
            "colorbar": {
             "outlinewidth": 0,
             "ticks": ""
            },
            "colorscale": [
             [
              0,
              "#0d0887"
             ],
             [
              0.11111111111111101,
              "#46039f"
             ],
             [
              0.22222222222222202,
              "#7201a8"
             ],
             [
              0.33333333333333304,
              "#9c179e"
             ],
             [
              0.44444444444444403,
              "#bd3786"
             ],
             [
              0.555555555555555,
              "#d8576b"
             ],
             [
              0.6666666666666661,
              "#ed7953"
             ],
             [
              0.777777777777777,
              "#fb9f3a"
             ],
             [
              0.8888888888888881,
              "#fdca26"
             ],
             [
              1,
              "#f0f921"
             ]
            ],
            "type": "surface"
           }
          ],
          "table": [
           {
            "cells": {
             "fill": {
              "color": "#EBF0F8"
             },
             "line": {
              "color": "white"
             }
            },
            "header": {
             "fill": {
              "color": "#C8D4E3"
             },
             "line": {
              "color": "white"
             }
            },
            "type": "table"
           }
          ]
         },
         "layout": {
          "annotationdefaults": {
           "arrowcolor": "#2a3f5f",
           "arrowhead": 0,
           "arrowwidth": 1
          },
          "autotypenumbers": "strict",
          "coloraxis": {
           "colorbar": {
            "outlinewidth": 0,
            "ticks": ""
           }
          },
          "colorscale": {
           "diverging": [
            [
             0,
             "#8e0152"
            ],
            [
             0.1,
             "#c51b7d"
            ],
            [
             0.2,
             "#de77ae"
            ],
            [
             0.30000000000000004,
             "#f1b6da"
            ],
            [
             0.4,
             "#fde0ef"
            ],
            [
             0.5,
             "#f7f7f7"
            ],
            [
             0.6000000000000001,
             "#e6f5d0"
            ],
            [
             0.7000000000000001,
             "#b8e186"
            ],
            [
             0.8,
             "#7fbc41"
            ],
            [
             0.9,
             "#4d9221"
            ],
            [
             1,
             "#276419"
            ]
           ],
           "sequential": [
            [
             0,
             "#0d0887"
            ],
            [
             0.11111111111111101,
             "#46039f"
            ],
            [
             0.22222222222222202,
             "#7201a8"
            ],
            [
             0.33333333333333304,
             "#9c179e"
            ],
            [
             0.44444444444444403,
             "#bd3786"
            ],
            [
             0.555555555555555,
             "#d8576b"
            ],
            [
             0.6666666666666661,
             "#ed7953"
            ],
            [
             0.777777777777777,
             "#fb9f3a"
            ],
            [
             0.8888888888888881,
             "#fdca26"
            ],
            [
             1,
             "#f0f921"
            ]
           ],
           "sequentialminus": [
            [
             0,
             "#0d0887"
            ],
            [
             0.11111111111111101,
             "#46039f"
            ],
            [
             0.22222222222222202,
             "#7201a8"
            ],
            [
             0.33333333333333304,
             "#9c179e"
            ],
            [
             0.44444444444444403,
             "#bd3786"
            ],
            [
             0.555555555555555,
             "#d8576b"
            ],
            [
             0.6666666666666661,
             "#ed7953"
            ],
            [
             0.777777777777777,
             "#fb9f3a"
            ],
            [
             0.8888888888888881,
             "#fdca26"
            ],
            [
             1,
             "#f0f921"
            ]
           ]
          },
          "colorway": [
           "#636efa",
           "#EF553B",
           "#00cc96",
           "#ab63fa",
           "#FFA15A",
           "#19d3f3",
           "#FF6692",
           "#B6E880",
           "#FF97FF",
           "#FECB52"
          ],
          "font": {
           "color": "#2a3f5f"
          },
          "geo": {
           "bgcolor": "white",
           "lakecolor": "white",
           "landcolor": "#E5ECF6",
           "showlakes": true,
           "showland": true,
           "subunitcolor": "white"
          },
          "hoverlabel": {
           "align": "left"
          },
          "hovermode": "closest",
          "mapbox": {
           "style": "light"
          },
          "paper_bgcolor": "white",
          "plot_bgcolor": "#E5ECF6",
          "polar": {
           "angularaxis": {
            "gridcolor": "white",
            "linecolor": "white",
            "ticks": ""
           },
           "bgcolor": "#E5ECF6",
           "radialaxis": {
            "gridcolor": "white",
            "linecolor": "white",
            "ticks": ""
           }
          },
          "scene": {
           "xaxis": {
            "backgroundcolor": "#E5ECF6",
            "gridcolor": "white",
            "gridwidth": 2,
            "linecolor": "white",
            "showbackground": true,
            "ticks": "",
            "zerolinecolor": "white"
           },
           "yaxis": {
            "backgroundcolor": "#E5ECF6",
            "gridcolor": "white",
            "gridwidth": 2,
            "linecolor": "white",
            "showbackground": true,
            "ticks": "",
            "zerolinecolor": "white"
           },
           "zaxis": {
            "backgroundcolor": "#E5ECF6",
            "gridcolor": "white",
            "gridwidth": 2,
            "linecolor": "white",
            "showbackground": true,
            "ticks": "",
            "zerolinecolor": "white"
           }
          },
          "shapedefaults": {
           "line": {
            "color": "#2a3f5f"
           }
          },
          "ternary": {
           "aaxis": {
            "gridcolor": "white",
            "linecolor": "white",
            "ticks": ""
           },
           "baxis": {
            "gridcolor": "white",
            "linecolor": "white",
            "ticks": ""
           },
           "bgcolor": "#E5ECF6",
           "caxis": {
            "gridcolor": "white",
            "linecolor": "white",
            "ticks": ""
           }
          },
          "title": {
           "x": 0.05
          },
          "xaxis": {
           "automargin": true,
           "gridcolor": "white",
           "linecolor": "white",
           "ticks": "",
           "title": {
            "standoff": 15
           },
           "zerolinecolor": "white",
           "zerolinewidth": 2
          },
          "yaxis": {
           "automargin": true,
           "gridcolor": "white",
           "linecolor": "white",
           "ticks": "",
           "title": {
            "standoff": 15
           },
           "zerolinecolor": "white",
           "zerolinewidth": 2
          }
         }
        },
        "title": {
         "text": "Theoretical mass spectrum Caffeine"
        },
        "xaxis": {
         "anchor": "y",
         "domain": [
          0,
          1
         ],
         "title": {
          "text": "mass"
         }
        },
        "yaxis": {
         "anchor": "x",
         "domain": [
          0,
          1
         ],
         "title": {
          "text": "intensity"
         }
        }
       }
      },
      "text/html": [
       "<div>                            <div id=\"e56b1f88-f87d-422c-920c-0265203f676e\" class=\"plotly-graph-div\" style=\"height:525px; width:100%;\"></div>            <script type=\"text/javascript\">                require([\"plotly\"], function(Plotly) {                    window.PLOTLYENV=window.PLOTLYENV || {};                                    if (document.getElementById(\"e56b1f88-f87d-422c-920c-0265203f676e\")) {                    Plotly.newPlot(                        \"e56b1f88-f87d-422c-920c-0265203f676e\",                        [{\"hovertemplate\":\"mass=%{x}<br>intensity=%{y}<extra></extra>\",\"legendgroup\":\"\",\"marker\":{\"color\":\"#636efa\",\"symbol\":\"circle\"},\"mode\":\"markers\",\"name\":\"\",\"orientation\":\"v\",\"showlegend\":false,\"x\":[194.08037557916003,195.0828731981479,196.08496800365222,197.08721402707516,198.08941014605315,199.09157710672346,200.09399808211242,201.09708815193596],\"xaxis\":\"x\",\"y\":[0.8988278103385703,0.0926251064131497,0.008021963997090535,0.0005004775601302562,2.3704201212500843e-05,9.094717506306198e-07,2.6356001478235125e-08,2.0286637467497437e-10],\"yaxis\":\"y\",\"type\":\"scatter\"}],                        {\"template\":{\"data\":{\"histogram2dcontour\":[{\"type\":\"histogram2dcontour\",\"colorbar\":{\"outlinewidth\":0,\"ticks\":\"\"},\"colorscale\":[[0.0,\"#0d0887\"],[0.1111111111111111,\"#46039f\"],[0.2222222222222222,\"#7201a8\"],[0.3333333333333333,\"#9c179e\"],[0.4444444444444444,\"#bd3786\"],[0.5555555555555556,\"#d8576b\"],[0.6666666666666666,\"#ed7953\"],[0.7777777777777778,\"#fb9f3a\"],[0.8888888888888888,\"#fdca26\"],[1.0,\"#f0f921\"]]}],\"choropleth\":[{\"type\":\"choropleth\",\"colorbar\":{\"outlinewidth\":0,\"ticks\":\"\"}}],\"histogram2d\":[{\"type\":\"histogram2d\",\"colorbar\":{\"outlinewidth\":0,\"ticks\":\"\"},\"colorscale\":[[0.0,\"#0d0887\"],[0.1111111111111111,\"#46039f\"],[0.2222222222222222,\"#7201a8\"],[0.3333333333333333,\"#9c179e\"],[0.4444444444444444,\"#bd3786\"],[0.5555555555555556,\"#d8576b\"],[0.6666666666666666,\"#ed7953\"],[0.7777777777777778,\"#fb9f3a\"],[0.8888888888888888,\"#fdca26\"],[1.0,\"#f0f921\"]]}],\"heatmap\":[{\"type\":\"heatmap\",\"colorbar\":{\"outlinewidth\":0,\"ticks\":\"\"},\"colorscale\":[[0.0,\"#0d0887\"],[0.1111111111111111,\"#46039f\"],[0.2222222222222222,\"#7201a8\"],[0.3333333333333333,\"#9c179e\"],[0.4444444444444444,\"#bd3786\"],[0.5555555555555556,\"#d8576b\"],[0.6666666666666666,\"#ed7953\"],[0.7777777777777778,\"#fb9f3a\"],[0.8888888888888888,\"#fdca26\"],[1.0,\"#f0f921\"]]}],\"heatmapgl\":[{\"type\":\"heatmapgl\",\"colorbar\":{\"outlinewidth\":0,\"ticks\":\"\"},\"colorscale\":[[0.0,\"#0d0887\"],[0.1111111111111111,\"#46039f\"],[0.2222222222222222,\"#7201a8\"],[0.3333333333333333,\"#9c179e\"],[0.4444444444444444,\"#bd3786\"],[0.5555555555555556,\"#d8576b\"],[0.6666666666666666,\"#ed7953\"],[0.7777777777777778,\"#fb9f3a\"],[0.8888888888888888,\"#fdca26\"],[1.0,\"#f0f921\"]]}],\"contourcarpet\":[{\"type\":\"contourcarpet\",\"colorbar\":{\"outlinewidth\":0,\"ticks\":\"\"}}],\"contour\":[{\"type\":\"contour\",\"colorbar\":{\"outlinewidth\":0,\"ticks\":\"\"},\"colorscale\":[[0.0,\"#0d0887\"],[0.1111111111111111,\"#46039f\"],[0.2222222222222222,\"#7201a8\"],[0.3333333333333333,\"#9c179e\"],[0.4444444444444444,\"#bd3786\"],[0.5555555555555556,\"#d8576b\"],[0.6666666666666666,\"#ed7953\"],[0.7777777777777778,\"#fb9f3a\"],[0.8888888888888888,\"#fdca26\"],[1.0,\"#f0f921\"]]}],\"surface\":[{\"type\":\"surface\",\"colorbar\":{\"outlinewidth\":0,\"ticks\":\"\"},\"colorscale\":[[0.0,\"#0d0887\"],[0.1111111111111111,\"#46039f\"],[0.2222222222222222,\"#7201a8\"],[0.3333333333333333,\"#9c179e\"],[0.4444444444444444,\"#bd3786\"],[0.5555555555555556,\"#d8576b\"],[0.6666666666666666,\"#ed7953\"],[0.7777777777777778,\"#fb9f3a\"],[0.8888888888888888,\"#fdca26\"],[1.0,\"#f0f921\"]]}],\"mesh3d\":[{\"type\":\"mesh3d\",\"colorbar\":{\"outlinewidth\":0,\"ticks\":\"\"}}],\"scatter\":[{\"fillpattern\":{\"fillmode\":\"overlay\",\"size\":10,\"solidity\":0.2},\"type\":\"scatter\"}],\"parcoords\":[{\"type\":\"parcoords\",\"line\":{\"colorbar\":{\"outlinewidth\":0,\"ticks\":\"\"}}}],\"scatterpolargl\":[{\"type\":\"scatterpolargl\",\"marker\":{\"colorbar\":{\"outlinewidth\":0,\"ticks\":\"\"}}}],\"bar\":[{\"error_x\":{\"color\":\"#2a3f5f\"},\"error_y\":{\"color\":\"#2a3f5f\"},\"marker\":{\"line\":{\"color\":\"#E5ECF6\",\"width\":0.5},\"pattern\":{\"fillmode\":\"overlay\",\"size\":10,\"solidity\":0.2}},\"type\":\"bar\"}],\"scattergeo\":[{\"type\":\"scattergeo\",\"marker\":{\"colorbar\":{\"outlinewidth\":0,\"ticks\":\"\"}}}],\"scatterpolar\":[{\"type\":\"scatterpolar\",\"marker\":{\"colorbar\":{\"outlinewidth\":0,\"ticks\":\"\"}}}],\"histogram\":[{\"marker\":{\"pattern\":{\"fillmode\":\"overlay\",\"size\":10,\"solidity\":0.2}},\"type\":\"histogram\"}],\"scattergl\":[{\"type\":\"scattergl\",\"marker\":{\"colorbar\":{\"outlinewidth\":0,\"ticks\":\"\"}}}],\"scatter3d\":[{\"type\":\"scatter3d\",\"line\":{\"colorbar\":{\"outlinewidth\":0,\"ticks\":\"\"}},\"marker\":{\"colorbar\":{\"outlinewidth\":0,\"ticks\":\"\"}}}],\"scattermapbox\":[{\"type\":\"scattermapbox\",\"marker\":{\"colorbar\":{\"outlinewidth\":0,\"ticks\":\"\"}}}],\"scatterternary\":[{\"type\":\"scatterternary\",\"marker\":{\"colorbar\":{\"outlinewidth\":0,\"ticks\":\"\"}}}],\"scattercarpet\":[{\"type\":\"scattercarpet\",\"marker\":{\"colorbar\":{\"outlinewidth\":0,\"ticks\":\"\"}}}],\"carpet\":[{\"aaxis\":{\"endlinecolor\":\"#2a3f5f\",\"gridcolor\":\"white\",\"linecolor\":\"white\",\"minorgridcolor\":\"white\",\"startlinecolor\":\"#2a3f5f\"},\"baxis\":{\"endlinecolor\":\"#2a3f5f\",\"gridcolor\":\"white\",\"linecolor\":\"white\",\"minorgridcolor\":\"white\",\"startlinecolor\":\"#2a3f5f\"},\"type\":\"carpet\"}],\"table\":[{\"cells\":{\"fill\":{\"color\":\"#EBF0F8\"},\"line\":{\"color\":\"white\"}},\"header\":{\"fill\":{\"color\":\"#C8D4E3\"},\"line\":{\"color\":\"white\"}},\"type\":\"table\"}],\"barpolar\":[{\"marker\":{\"line\":{\"color\":\"#E5ECF6\",\"width\":0.5},\"pattern\":{\"fillmode\":\"overlay\",\"size\":10,\"solidity\":0.2}},\"type\":\"barpolar\"}],\"pie\":[{\"automargin\":true,\"type\":\"pie\"}]},\"layout\":{\"autotypenumbers\":\"strict\",\"colorway\":[\"#636efa\",\"#EF553B\",\"#00cc96\",\"#ab63fa\",\"#FFA15A\",\"#19d3f3\",\"#FF6692\",\"#B6E880\",\"#FF97FF\",\"#FECB52\"],\"font\":{\"color\":\"#2a3f5f\"},\"hovermode\":\"closest\",\"hoverlabel\":{\"align\":\"left\"},\"paper_bgcolor\":\"white\",\"plot_bgcolor\":\"#E5ECF6\",\"polar\":{\"bgcolor\":\"#E5ECF6\",\"angularaxis\":{\"gridcolor\":\"white\",\"linecolor\":\"white\",\"ticks\":\"\"},\"radialaxis\":{\"gridcolor\":\"white\",\"linecolor\":\"white\",\"ticks\":\"\"}},\"ternary\":{\"bgcolor\":\"#E5ECF6\",\"aaxis\":{\"gridcolor\":\"white\",\"linecolor\":\"white\",\"ticks\":\"\"},\"baxis\":{\"gridcolor\":\"white\",\"linecolor\":\"white\",\"ticks\":\"\"},\"caxis\":{\"gridcolor\":\"white\",\"linecolor\":\"white\",\"ticks\":\"\"}},\"coloraxis\":{\"colorbar\":{\"outlinewidth\":0,\"ticks\":\"\"}},\"colorscale\":{\"sequential\":[[0.0,\"#0d0887\"],[0.1111111111111111,\"#46039f\"],[0.2222222222222222,\"#7201a8\"],[0.3333333333333333,\"#9c179e\"],[0.4444444444444444,\"#bd3786\"],[0.5555555555555556,\"#d8576b\"],[0.6666666666666666,\"#ed7953\"],[0.7777777777777778,\"#fb9f3a\"],[0.8888888888888888,\"#fdca26\"],[1.0,\"#f0f921\"]],\"sequentialminus\":[[0.0,\"#0d0887\"],[0.1111111111111111,\"#46039f\"],[0.2222222222222222,\"#7201a8\"],[0.3333333333333333,\"#9c179e\"],[0.4444444444444444,\"#bd3786\"],[0.5555555555555556,\"#d8576b\"],[0.6666666666666666,\"#ed7953\"],[0.7777777777777778,\"#fb9f3a\"],[0.8888888888888888,\"#fdca26\"],[1.0,\"#f0f921\"]],\"diverging\":[[0,\"#8e0152\"],[0.1,\"#c51b7d\"],[0.2,\"#de77ae\"],[0.3,\"#f1b6da\"],[0.4,\"#fde0ef\"],[0.5,\"#f7f7f7\"],[0.6,\"#e6f5d0\"],[0.7,\"#b8e186\"],[0.8,\"#7fbc41\"],[0.9,\"#4d9221\"],[1,\"#276419\"]]},\"xaxis\":{\"gridcolor\":\"white\",\"linecolor\":\"white\",\"ticks\":\"\",\"title\":{\"standoff\":15},\"zerolinecolor\":\"white\",\"automargin\":true,\"zerolinewidth\":2},\"yaxis\":{\"gridcolor\":\"white\",\"linecolor\":\"white\",\"ticks\":\"\",\"title\":{\"standoff\":15},\"zerolinecolor\":\"white\",\"automargin\":true,\"zerolinewidth\":2},\"scene\":{\"xaxis\":{\"backgroundcolor\":\"#E5ECF6\",\"gridcolor\":\"white\",\"linecolor\":\"white\",\"showbackground\":true,\"ticks\":\"\",\"zerolinecolor\":\"white\",\"gridwidth\":2},\"yaxis\":{\"backgroundcolor\":\"#E5ECF6\",\"gridcolor\":\"white\",\"linecolor\":\"white\",\"showbackground\":true,\"ticks\":\"\",\"zerolinecolor\":\"white\",\"gridwidth\":2},\"zaxis\":{\"backgroundcolor\":\"#E5ECF6\",\"gridcolor\":\"white\",\"linecolor\":\"white\",\"showbackground\":true,\"ticks\":\"\",\"zerolinecolor\":\"white\",\"gridwidth\":2}},\"shapedefaults\":{\"line\":{\"color\":\"#2a3f5f\"}},\"annotationdefaults\":{\"arrowcolor\":\"#2a3f5f\",\"arrowhead\":0,\"arrowwidth\":1},\"geo\":{\"bgcolor\":\"white\",\"landcolor\":\"#E5ECF6\",\"subunitcolor\":\"white\",\"showland\":true,\"showlakes\":true,\"lakecolor\":\"white\"},\"title\":{\"x\":0.05},\"mapbox\":{\"style\":\"light\"}}},\"xaxis\":{\"anchor\":\"y\",\"domain\":[0.0,1.0],\"title\":{\"text\":\"mass\"}},\"yaxis\":{\"anchor\":\"x\",\"domain\":[0.0,1.0],\"title\":{\"text\":\"intensity\"}},\"legend\":{\"tracegroupgap\":0},\"title\":{\"text\":\"Theoretical mass spectrum Caffeine\"}},                        {\"responsive\": true}                    ).then(function(){\n",
       "                            \n",
       "var gd = document.getElementById('e56b1f88-f87d-422c-920c-0265203f676e');\n",
       "var x = new MutationObserver(function (mutations, observer) {{\n",
       "        var display = window.getComputedStyle(gd).display;\n",
       "        if (!display || display === 'none') {{\n",
       "            console.log([gd, 'removed!']);\n",
       "            Plotly.purge(gd);\n",
       "            observer.disconnect();\n",
       "        }}\n",
       "}});\n",
       "\n",
       "// Listen for the removal of the full notebook cells\n",
       "var notebookContainer = gd.closest('#notebook-container');\n",
       "if (notebookContainer) {{\n",
       "    x.observe(notebookContainer, {childList: true});\n",
       "}}\n",
       "\n",
       "// Listen for the clearing of the current output cell\n",
       "var outputEl = gd.closest('.output');\n",
       "if (outputEl) {{\n",
       "    x.observe(outputEl, {childList: true});\n",
       "}}\n",
       "\n",
       "                        })                };                });            </script>        </div>"
      ]
     },
     "metadata": {},
     "output_type": "display_data"
    }
   ],
   "source": [
    "fig = px.scatter(df, x='mass', y='intensity', title='Theoretical mass spectrum Caffeine')\n",
    "fig.show()"
   ]
  },
  {
   "cell_type": "markdown",
   "metadata": {},
   "source": [
    "## Exploring `mendeleev` "
   ]
  },
  {
   "cell_type": "markdown",
   "metadata": {},
   "source": [
    "With the `mendeleev` package a great number of properties of chemical elements can be accessed. Let's take a look at my favorite element. "
   ]
  },
  {
   "cell_type": "code",
   "execution_count": null,
   "metadata": {},
   "outputs": [],
   "source": [
    "import mendeleev "
   ]
  },
  {
   "cell_type": "code",
   "execution_count": null,
   "metadata": {},
   "outputs": [],
   "source": [
    "Fe = mendeleev.element('Fe')"
   ]
  },
  {
   "cell_type": "code",
   "execution_count": null,
   "metadata": {},
   "outputs": [
    {
     "data": {
      "text/plain": [
       "Element(\n",
       "\tabundance_crust=56300.0,\n",
       " \tabundance_sea=0.002,\n",
       " \tannotation='',\n",
       " \tatomic_number=26,\n",
       " \tatomic_radius=140.0,\n",
       " \tatomic_radius_rahm=237.0,\n",
       " \tatomic_volume=7.1,\n",
       " \tatomic_weight=55.845,\n",
       " \tatomic_weight_uncertainty=0.002,\n",
       " \tblock='d',\n",
       " \tboiling_point=3023.0,\n",
       " \tc6=482.0,\n",
       " \tc6_gb=548.0,\n",
       " \tcas='7439-89-6',\n",
       " \tcovalent_radius_bragg=140.0,\n",
       " \tcovalent_radius_cordero=142.0,\n",
       " \tcovalent_radius_pyykko=115.99999999999999,\n",
       " \tcovalent_radius_pyykko_double=109.0,\n",
       " \tcovalent_radius_pyykko_triple=102.0,\n",
       " \tcpk_color='#ffa500',\n",
       " \tdensity=7.874,\n",
       " \tdescription=\"Silvery malleable and ductile metallic transition element. Has nine isotopes and is the fourth most abundant element in the earth's crust. Required by living organisms as a trace element (used in hemoglobin in humans.) Quite reactive, oxidizes in moist air, displaces hydrogen from dilute acids and combines with nonmetallic elements.\",\n",
       " \tdipole_polarizability=62.0,\n",
       " \tdipole_polarizability_unc=4.0,\n",
       " \tdiscoverers='Known to the ancients.',\n",
       " \tdiscovery_location=None,\n",
       " \tdiscovery_year=None,\n",
       " \tec=<ElectronicConfiguration(conf=\"1s2 2s2 2p6 3s2 3p6 3d6 4s2\")>,\n",
       " \teconf='[Ar] 3d6 4s2',\n",
       " \telectron_affinity=0.151,\n",
       " \ten_allen=10.64,\n",
       " \ten_ghosh=0.13925320000000002,\n",
       " \ten_pauling=1.83,\n",
       " \tevaporation_heat=340.0,\n",
       " \tfusion_heat=13.8,\n",
       " \tgas_basicity=731.1,\n",
       " \tgeochemical_class='major',\n",
       " \tglawe_number=71,\n",
       " \tgoldschmidt_class='siderophile',\n",
       " \tgroup=<Group(symbol=VIIIB, name=)>,\n",
       " \tgroup_id=8,\n",
       " \theat_of_formation=415.5,\n",
       " \tionic_radii=[IonicRadius(\n",
       "\tatomic_number=26,\n",
       " \tcharge=2,\n",
       " \tcoordination='IV',\n",
       " \tcrystal_radius=77.0,\n",
       " \teconf='3d6',\n",
       " \tid=149,\n",
       " \tionic_radius=63.0,\n",
       " \tmost_reliable=False,\n",
       " \torigin='',\n",
       " \tspin='HS',\n",
       "), IonicRadius(\n",
       "\tatomic_number=26,\n",
       " \tcharge=2,\n",
       " \tcoordination='IVSQ',\n",
       " \tcrystal_radius=78.0,\n",
       " \teconf='3d6',\n",
       " \tid=150,\n",
       " \tionic_radius=64.0,\n",
       " \tmost_reliable=False,\n",
       " \torigin='',\n",
       " \tspin='HS',\n",
       "), IonicRadius(\n",
       "\tatomic_number=26,\n",
       " \tcharge=2,\n",
       " \tcoordination='VI',\n",
       " \tcrystal_radius=75.0,\n",
       " \teconf='3d6',\n",
       " \tid=151,\n",
       " \tionic_radius=61.0,\n",
       " \tmost_reliable=False,\n",
       " \torigin='estimated, ',\n",
       " \tspin='LS',\n",
       "), IonicRadius(\n",
       "\tatomic_number=26,\n",
       " \tcharge=2,\n",
       " \tcoordination='VI',\n",
       " \tcrystal_radius=92.0,\n",
       " \teconf='3d6',\n",
       " \tid=152,\n",
       " \tionic_radius=78.0,\n",
       " \tmost_reliable=True,\n",
       " \torigin='from r^3 vs V plots, ',\n",
       " \tspin='HS',\n",
       "), IonicRadius(\n",
       "\tatomic_number=26,\n",
       " \tcharge=2,\n",
       " \tcoordination='VIII',\n",
       " \tcrystal_radius=106.0,\n",
       " \teconf='3d6',\n",
       " \tid=153,\n",
       " \tionic_radius=92.0,\n",
       " \tmost_reliable=False,\n",
       " \torigin='calculated, ',\n",
       " \tspin='HS',\n",
       "), IonicRadius(\n",
       "\tatomic_number=26,\n",
       " \tcharge=3,\n",
       " \tcoordination='IV',\n",
       " \tcrystal_radius=63.0,\n",
       " \teconf='3d5',\n",
       " \tid=154,\n",
       " \tionic_radius=49.0,\n",
       " \tmost_reliable=True,\n",
       " \torigin='',\n",
       " \tspin='HS',\n",
       "), IonicRadius(\n",
       "\tatomic_number=26,\n",
       " \tcharge=3,\n",
       " \tcoordination='V',\n",
       " \tcrystal_radius=72.0,\n",
       " \teconf='3d5',\n",
       " \tid=155,\n",
       " \tionic_radius=57.99999999999999,\n",
       " \tmost_reliable=False,\n",
       " \torigin='',\n",
       " \tspin='',\n",
       "), IonicRadius(\n",
       "\tatomic_number=26,\n",
       " \tcharge=3,\n",
       " \tcoordination='VI',\n",
       " \tcrystal_radius=69.0,\n",
       " \teconf='3d5',\n",
       " \tid=156,\n",
       " \tionic_radius=55.00000000000001,\n",
       " \tmost_reliable=False,\n",
       " \torigin='from r^3 vs V plots, ',\n",
       " \tspin='LS',\n",
       "), IonicRadius(\n",
       "\tatomic_number=26,\n",
       " \tcharge=3,\n",
       " \tcoordination='VI',\n",
       " \tcrystal_radius=78.5,\n",
       " \teconf='3d5',\n",
       " \tid=157,\n",
       " \tionic_radius=64.5,\n",
       " \tmost_reliable=True,\n",
       " \torigin='from r^3 vs V plots, ',\n",
       " \tspin='HS',\n",
       "), IonicRadius(\n",
       "\tatomic_number=26,\n",
       " \tcharge=3,\n",
       " \tcoordination='VIII',\n",
       " \tcrystal_radius=92.0,\n",
       " \teconf='3d5',\n",
       " \tid=158,\n",
       " \tionic_radius=78.0,\n",
       " \tmost_reliable=False,\n",
       " \torigin='',\n",
       " \tspin='HS',\n",
       "), IonicRadius(\n",
       "\tatomic_number=26,\n",
       " \tcharge=4,\n",
       " \tcoordination='VI',\n",
       " \tcrystal_radius=72.5,\n",
       " \teconf='3d4',\n",
       " \tid=159,\n",
       " \tionic_radius=58.5,\n",
       " \tmost_reliable=False,\n",
       " \torigin='from r^3 vs V plots, ',\n",
       " \tspin='',\n",
       "), IonicRadius(\n",
       "\tatomic_number=26,\n",
       " \tcharge=6,\n",
       " \tcoordination='IV',\n",
       " \tcrystal_radius=39.0,\n",
       " \teconf='3d2',\n",
       " \tid=160,\n",
       " \tionic_radius=25.0,\n",
       " \tmost_reliable=False,\n",
       " \torigin='from r^3 vs V plots, ',\n",
       " \tspin='',\n",
       ")],\n",
       " \tis_monoisotopic=None,\n",
       " \tis_radioactive=False,\n",
       " \tisotopes=[<Isotope(Z=26, A=54, mass=53.939609, abundance=0.05845)>, <Isotope(Z=26, A=56, mass=55.934936, abundance=0.9175399999999999)>, <Isotope(Z=26, A=57, mass=56.935393, abundance=0.02119)>, <Isotope(Z=26, A=58, mass=57.933274, abundance=0.00282)>],\n",
       " \tjmol_color='#e06633',\n",
       " \tlattice_constant=2.87,\n",
       " \tlattice_structure='BCC',\n",
       " \tmelting_point=1808.0,\n",
       " \tmendeleev_number=59,\n",
       " \tmetallic_radius=117.0,\n",
       " \tmetallic_radius_c12=126.0,\n",
       " \tmolcas_gv_color='#e06633',\n",
       " \tname='Iron',\n",
       " \tname_origin='Anglo-Saxon: iron; symbol from Latin: ferrum (iron).',\n",
       " \tperiod=4,\n",
       " \tpettifor_number=61,\n",
       " \tproton_affinity=754.0,\n",
       " \tscreening_constants=[<ScreeningConstant(Z=  26, n=  1, s=s, screening=    0.6190)>, <ScreeningConstant(Z=  26, n=  2, s=p, screening=    3.9112)>, <ScreeningConstant(Z=  26, n=  2, s=s, screening=    7.4010)>, <ScreeningConstant(Z=  26, n=  3, s=d, screening=   14.8202)>, <ScreeningConstant(Z=  26, n=  3, s=p, screening=   13.2221)>, <ScreeningConstant(Z=  26, n=  3, s=s, screening=   12.3239)>, <ScreeningConstant(Z=  26, n=  4, s=s, screening=   20.5660)>],\n",
       " \tsources='Obtained from iron ores. Pure metal produced in blast furnaces by layering limestone, coke and iron ore and forcing hot gasses into the bottom.  This heats the coke red hot and the iron is reduced from its oxides and liquified where it flows to the bottom',\n",
       " \tspecific_heat=0.443,\n",
       " \tsymbol='Fe',\n",
       " \tthermal_conductivity=80.4,\n",
       " \tuses='Used in steel and other alloys. Essential for humans. It is the chief constituent of hemoglobin which carries oxygen in blood vessels. Its oxides are used in magnetic tapes and disks.',\n",
       " \tvdw_radius=204.0,\n",
       " \tvdw_radius_alvarez=244.0,\n",
       " \tvdw_radius_batsanov=204.99999999999997,\n",
       " \tvdw_radius_bondi=None,\n",
       " \tvdw_radius_dreiding=None,\n",
       " \tvdw_radius_mm3=223.0,\n",
       " \tvdw_radius_rt=None,\n",
       " \tvdw_radius_truhlar=None,\n",
       " \tvdw_radius_uff=291.2,\n",
       ")"
      ]
     },
     "execution_count": null,
     "metadata": {},
     "output_type": "execute_result"
    }
   ],
   "source": [
    "Fe"
   ]
  },
  {
   "cell_type": "markdown",
   "metadata": {},
   "source": [
    "We can look up the masses and their abundances for all iron isotopes. "
   ]
  },
  {
   "cell_type": "code",
   "execution_count": null,
   "metadata": {},
   "outputs": [
    {
     "data": {
      "text/plain": [
       "[<Isotope(Z=26, A=54, mass=53.939609, abundance=0.05845)>,\n",
       " <Isotope(Z=26, A=56, mass=55.934936, abundance=0.9175399999999999)>,\n",
       " <Isotope(Z=26, A=57, mass=56.935393, abundance=0.02119)>,\n",
       " <Isotope(Z=26, A=58, mass=57.933274, abundance=0.00282)>]"
      ]
     },
     "execution_count": null,
     "metadata": {},
     "output_type": "execute_result"
    }
   ],
   "source": [
    "Fe.isotopes"
   ]
  },
  {
   "cell_type": "markdown",
   "metadata": {},
   "source": [
    "Need to ask my chemical colleagues if this precision is would be good enough for our purposes.  "
   ]
  },
  {
   "cell_type": "markdown",
   "metadata": {},
   "source": [
    "## Exploring `pyhrms` \n",
    "\n",
    "See: [https://pypi.org/project/pyhrms/](https://pypi.org/project/pyhrms/)"
   ]
  },
  {
   "cell_type": "markdown",
   "metadata": {},
   "source": [
    "## Exploring `pymzml`  \n",
    "\n",
    "See: [https://pypi.org/project/pymzml/](https://pypi.org/project/pymzml/) \n",
    "\n",
    "This seems to be an important package. Not sure if we can find documentation..."
   ]
  }
 ],
 "metadata": {
  "kernelspec": {
   "display_name": "Python 3",
   "language": "python",
   "name": "python3"
  }
 },
 "nbformat": 4,
 "nbformat_minor": 2
}
