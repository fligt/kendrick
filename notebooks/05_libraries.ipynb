{
 "cells": [
  {
   "cell_type": "raw",
   "metadata": {},
   "source": [
    "---\n",
    "execute: \n",
    "  enabled: false\n",
    "---"
   ]
  },
  {
   "cell_type": "markdown",
   "metadata": {},
   "source": [
    "# Python for High Resolution Mass Spectrometry "
   ]
  },
  {
   "cell_type": "markdown",
   "metadata": {},
   "source": [
    "> Learn to code, code to learn. "
   ]
  },
  {
   "cell_type": "markdown",
   "metadata": {},
   "source": [
    "An initial search for python packages to analyze high resolution mass spectrometry data, I found a few that seem rather useful. I will quickly explore them below. "
   ]
  },
  {
   "cell_type": "markdown",
   "metadata": {},
   "source": [
    "## `molmass` "
   ]
  },
  {
   "cell_type": "markdown",
   "metadata": {},
   "source": [
    "The `molmass` package can be installed from the Python package index: [https://pypi.org/project/molmass/](https://pypi.org/project/molmass/)."
   ]
  },
  {
   "cell_type": "markdown",
   "metadata": {},
   "source": [
    "::: {.callout-warning} \n",
    "The latest version of `molmass` requires Python version 3.8. \n",
    ":::"
   ]
  },
  {
   "cell_type": "code",
   "execution_count": null,
   "metadata": {},
   "outputs": [],
   "source": [
    "import molmass \n",
    "import numpy as np \n",
    "import pandas as pd "
   ]
  },
  {
   "cell_type": "markdown",
   "metadata": {},
   "source": [
    "You can check your version of a package with the `.__version__` attribute. The latest version is '2022.12.9'. "
   ]
  },
  {
   "cell_type": "code",
   "execution_count": null,
   "metadata": {},
   "outputs": [
    {
     "data": {
      "text/plain": [
       "'2022.12.9'"
      ]
     },
     "execution_count": null,
     "metadata": {},
     "output_type": "execute_result"
    }
   ],
   "source": [
    "molmass.__version__"
   ]
  },
  {
   "cell_type": "markdown",
   "metadata": {},
   "source": [
    "Let's explore the properties of caffeine as detailed in the [code example](https://pypi.org/project/molmass/). "
   ]
  },
  {
   "cell_type": "code",
   "execution_count": null,
   "metadata": {},
   "outputs": [
    {
     "data": {
      "text/plain": [
       "Formula('C8H10N4O2')"
      ]
     },
     "execution_count": null,
     "metadata": {},
     "output_type": "execute_result"
    }
   ],
   "source": [
    "from molmass import Formula\n",
    "f = Formula('C8H10N4O2')  # Caffeine\n",
    "f"
   ]
  },
  {
   "cell_type": "markdown",
   "metadata": {},
   "source": [
    "And look up the *average*, *nominal* and *monoisotopic mass*. "
   ]
  },
  {
   "cell_type": "code",
   "execution_count": null,
   "metadata": {},
   "outputs": [
    {
     "data": {
      "text/plain": [
       "194.19095199999998"
      ]
     },
     "execution_count": null,
     "metadata": {},
     "output_type": "execute_result"
    }
   ],
   "source": [
    "f.mass  # average mass "
   ]
  },
  {
   "cell_type": "code",
   "execution_count": null,
   "metadata": {},
   "outputs": [
    {
     "data": {
      "text/plain": [
       "194"
      ]
     },
     "execution_count": null,
     "metadata": {},
     "output_type": "execute_result"
    }
   ],
   "source": [
    "f.nominal_mass  # == f.isotope.massnumber"
   ]
  },
  {
   "cell_type": "code",
   "execution_count": null,
   "metadata": {},
   "outputs": [
    {
     "data": {
      "text/plain": [
       "194.08037557916"
      ]
     },
     "execution_count": null,
     "metadata": {},
     "output_type": "execute_result"
    }
   ],
   "source": [
    "f.monoisotopic_mass  # == f.isotope.mass"
   ]
  },
  {
   "cell_type": "code",
   "execution_count": null,
   "metadata": {},
   "outputs": [
    {
     "data": {
      "text/html": [
       "<div>\n",
       "<style scoped>\n",
       "    .dataframe tbody tr th:only-of-type {\n",
       "        vertical-align: middle;\n",
       "    }\n",
       "\n",
       "    .dataframe tbody tr th {\n",
       "        vertical-align: top;\n",
       "    }\n",
       "\n",
       "    .dataframe thead th {\n",
       "        text-align: right;\n",
       "    }\n",
       "</style>\n",
       "<table border=\"1\" class=\"dataframe\">\n",
       "  <thead>\n",
       "    <tr style=\"text-align: right;\">\n",
       "      <th></th>\n",
       "      <th>Count</th>\n",
       "      <th>Relative mass</th>\n",
       "      <th>Fraction</th>\n",
       "    </tr>\n",
       "    <tr>\n",
       "      <th>Element</th>\n",
       "      <th></th>\n",
       "      <th></th>\n",
       "      <th></th>\n",
       "    </tr>\n",
       "  </thead>\n",
       "  <tbody>\n",
       "    <tr>\n",
       "      <th>C</th>\n",
       "      <td>8</td>\n",
       "      <td>96.085920</td>\n",
       "      <td>0.494801</td>\n",
       "    </tr>\n",
       "    <tr>\n",
       "      <th>H</th>\n",
       "      <td>10</td>\n",
       "      <td>10.079410</td>\n",
       "      <td>0.051905</td>\n",
       "    </tr>\n",
       "    <tr>\n",
       "      <th>N</th>\n",
       "      <td>4</td>\n",
       "      <td>56.026812</td>\n",
       "      <td>0.288514</td>\n",
       "    </tr>\n",
       "    <tr>\n",
       "      <th>O</th>\n",
       "      <td>2</td>\n",
       "      <td>31.998810</td>\n",
       "      <td>0.164780</td>\n",
       "    </tr>\n",
       "  </tbody>\n",
       "</table>\n",
       "</div>"
      ],
      "text/plain": [
       "         Count  Relative mass  Fraction\n",
       "Element                                \n",
       "C            8      96.085920  0.494801\n",
       "H           10      10.079410  0.051905\n",
       "N            4      56.026812  0.288514\n",
       "O            2      31.998810  0.164780"
      ]
     },
     "execution_count": null,
     "metadata": {},
     "output_type": "execute_result"
    }
   ],
   "source": [
    "f.composition().dataframe()"
   ]
  },
  {
   "cell_type": "markdown",
   "metadata": {},
   "source": [
    "Next, let's compute the mass spectrum for caffeine for all the different isotope combinations. "
   ]
  },
  {
   "cell_type": "code",
   "execution_count": null,
   "metadata": {},
   "outputs": [
    {
     "data": {
      "text/html": [
       "<div>\n",
       "<style scoped>\n",
       "    .dataframe tbody tr th:only-of-type {\n",
       "        vertical-align: middle;\n",
       "    }\n",
       "\n",
       "    .dataframe tbody tr th {\n",
       "        vertical-align: top;\n",
       "    }\n",
       "\n",
       "    .dataframe thead th {\n",
       "        text-align: right;\n",
       "    }\n",
       "</style>\n",
       "<table border=\"1\" class=\"dataframe\">\n",
       "  <thead>\n",
       "    <tr style=\"text-align: right;\">\n",
       "      <th></th>\n",
       "      <th>Relative mass</th>\n",
       "      <th>Fraction</th>\n",
       "      <th>Intensity %</th>\n",
       "      <th>m/z</th>\n",
       "    </tr>\n",
       "    <tr>\n",
       "      <th>Mass number</th>\n",
       "      <th></th>\n",
       "      <th></th>\n",
       "      <th></th>\n",
       "      <th></th>\n",
       "    </tr>\n",
       "  </thead>\n",
       "  <tbody>\n",
       "    <tr>\n",
       "      <th>194</th>\n",
       "      <td>194.080376</td>\n",
       "      <td>0.898828</td>\n",
       "      <td>100.000000</td>\n",
       "      <td>194.080376</td>\n",
       "    </tr>\n",
       "    <tr>\n",
       "      <th>195</th>\n",
       "      <td>195.082873</td>\n",
       "      <td>0.092625</td>\n",
       "      <td>10.305100</td>\n",
       "      <td>195.082873</td>\n",
       "    </tr>\n",
       "    <tr>\n",
       "      <th>196</th>\n",
       "      <td>196.084968</td>\n",
       "      <td>0.008022</td>\n",
       "      <td>0.892492</td>\n",
       "      <td>196.084968</td>\n",
       "    </tr>\n",
       "    <tr>\n",
       "      <th>197</th>\n",
       "      <td>197.087214</td>\n",
       "      <td>0.000500</td>\n",
       "      <td>0.055681</td>\n",
       "      <td>197.087214</td>\n",
       "    </tr>\n",
       "  </tbody>\n",
       "</table>\n",
       "</div>"
      ],
      "text/plain": [
       "             Relative mass  Fraction  Intensity %         m/z\n",
       "Mass number                                                  \n",
       "194             194.080376  0.898828   100.000000  194.080376\n",
       "195             195.082873  0.092625    10.305100  195.082873\n",
       "196             196.084968  0.008022     0.892492  196.084968\n",
       "197             197.087214  0.000500     0.055681  197.087214"
      ]
     },
     "execution_count": null,
     "metadata": {},
     "output_type": "execute_result"
    }
   ],
   "source": [
    "df = f.spectrum(min_intensity=0.01).dataframe()\n",
    "df"
   ]
  },
  {
   "cell_type": "markdown",
   "metadata": {},
   "source": [
    "Let's plot the the mass spectrum..."
   ]
  },
  {
   "cell_type": "code",
   "execution_count": null,
   "metadata": {},
   "outputs": [],
   "source": [
    "import matplotlib.pyplot as plt"
   ]
  },
  {
   "cell_type": "code",
   "execution_count": null,
   "metadata": {},
   "outputs": [
    {
     "data": {
      "image/png": "[encoded data removed]",
      "text/plain": [
       "<Figure size 640x480 with 1 Axes>"
      ]
     },
     "metadata": {},
     "output_type": "display_data"
    }
   ],
   "source": [
    "#|code-fold: true \n",
    "fig, ax = plt.subplots()\n",
    "ax.scatter(df['Relative mass'], df['Fraction'])\n",
    "ax.set_xlabel('Monoisotopic mass (u)')\n",
    "ax.set_ylabel('Mass fraction')\n",
    "ax.set_title('Caffeine mass spectrum');"
   ]
  },
  {
   "cell_type": "markdown",
   "metadata": {},
   "source": [
    "Here is also the mass spectrum for the different isotopes of iron. "
   ]
  },
  {
   "cell_type": "code",
   "execution_count": null,
   "metadata": {},
   "outputs": [],
   "source": [
    "Fe = Formula('Fe')"
   ]
  },
  {
   "cell_type": "code",
   "execution_count": null,
   "metadata": {},
   "outputs": [
    {
     "data": {
      "text/html": [
       "<div>\n",
       "<style scoped>\n",
       "    .dataframe tbody tr th:only-of-type {\n",
       "        vertical-align: middle;\n",
       "    }\n",
       "\n",
       "    .dataframe tbody tr th {\n",
       "        vertical-align: top;\n",
       "    }\n",
       "\n",
       "    .dataframe thead th {\n",
       "        text-align: right;\n",
       "    }\n",
       "</style>\n",
       "<table border=\"1\" class=\"dataframe\">\n",
       "  <thead>\n",
       "    <tr style=\"text-align: right;\">\n",
       "      <th></th>\n",
       "      <th>Relative mass</th>\n",
       "      <th>Fraction</th>\n",
       "      <th>Intensity %</th>\n",
       "      <th>m/z</th>\n",
       "    </tr>\n",
       "    <tr>\n",
       "      <th>Mass number</th>\n",
       "      <th></th>\n",
       "      <th></th>\n",
       "      <th></th>\n",
       "      <th></th>\n",
       "    </tr>\n",
       "  </thead>\n",
       "  <tbody>\n",
       "    <tr>\n",
       "      <th>54</th>\n",
       "      <td>53.939609</td>\n",
       "      <td>0.05845</td>\n",
       "      <td>6.370294</td>\n",
       "      <td>53.939609</td>\n",
       "    </tr>\n",
       "    <tr>\n",
       "      <th>56</th>\n",
       "      <td>55.934936</td>\n",
       "      <td>0.91754</td>\n",
       "      <td>100.000000</td>\n",
       "      <td>55.934936</td>\n",
       "    </tr>\n",
       "    <tr>\n",
       "      <th>57</th>\n",
       "      <td>56.935393</td>\n",
       "      <td>0.02119</td>\n",
       "      <td>2.309436</td>\n",
       "      <td>56.935393</td>\n",
       "    </tr>\n",
       "    <tr>\n",
       "      <th>58</th>\n",
       "      <td>57.933274</td>\n",
       "      <td>0.00282</td>\n",
       "      <td>0.307344</td>\n",
       "      <td>57.933274</td>\n",
       "    </tr>\n",
       "  </tbody>\n",
       "</table>\n",
       "</div>"
      ],
      "text/plain": [
       "             Relative mass  Fraction  Intensity %        m/z\n",
       "Mass number                                                 \n",
       "54               53.939609   0.05845     6.370294  53.939609\n",
       "56               55.934936   0.91754   100.000000  55.934936\n",
       "57               56.935393   0.02119     2.309436  56.935393\n",
       "58               57.933274   0.00282     0.307344  57.933274"
      ]
     },
     "execution_count": null,
     "metadata": {},
     "output_type": "execute_result"
    }
   ],
   "source": [
    "Fe.spectrum().dataframe()"
   ]
  },
  {
   "cell_type": "markdown",
   "metadata": {},
   "source": [
    "## `pyhrms`  \n",
    "\n",
    "Need to look into this. \n",
    "\n",
    "See: [https://pypi.org/project/pyhrms/](https://pypi.org/project/pyhrms/)"
   ]
  },
  {
   "cell_type": "markdown",
   "metadata": {},
   "source": [
    "## `pymzml`   \n",
    "\n",
    "Need to look into this. \n",
    "\n",
    "See: [https://pypi.org/project/pymzml/](https://pypi.org/project/pymzml/) \n",
    "\n",
    "This seems to be an important package. Here is the documentation: [https://pymzml.readthedocs.io/en/latest/](https://pymzml.readthedocs.io/en/latest/)"
   ]
  }
 ],
 "metadata": {
  "kernelspec": {
   "display_name": "py38",
   "language": "python",
   "name": "py38"
  }
 },
 "nbformat": 4,
 "nbformat_minor": 2
}
