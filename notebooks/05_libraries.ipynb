{
 "cells": [
  {
   "cell_type": "raw",
   "metadata": {},
   "source": [
    "---\n",
    "execute: \n",
    "  enabled: true\n",
    "jupyter: \n",
    "  kernelspec:\n",
    "    name: \"python3\"\n",
    "    language: \"python\"\n",
    "    display_name: \"Python(3)\"\n",
    "---"
   ]
  },
  {
   "cell_type": "markdown",
   "metadata": {},
   "source": [
    "# Python for High Resolution Mass Spectrometry "
   ]
  },
  {
   "cell_type": "markdown",
   "metadata": {},
   "source": [
    "> Learn to code, code to learn. "
   ]
  },
  {
   "cell_type": "markdown",
   "metadata": {},
   "source": [
    "An initial search for python packages to analyze high resolution mass spectrometry data, I found a few that seem rather useful. I will quickly explore them below. "
   ]
  },
  {
   "cell_type": "markdown",
   "metadata": {},
   "source": [
    "## molmass"
   ]
  },
  {
   "cell_type": "markdown",
   "metadata": {},
   "source": [
    "The `molmass` package can be installed from the Python package index: [https://pypi.org/project/molmass/](https://pypi.org/project/molmass/)."
   ]
  },
  {
   "cell_type": "markdown",
   "metadata": {},
   "source": [
    "::: {.callout-warning} \n",
    "The latest version of `molmass` requires Python version 3.8. \n",
    ":::"
   ]
  },
  {
   "cell_type": "code",
   "execution_count": null,
   "metadata": {},
   "outputs": [],
   "source": [
    "import molmass \n",
    "import numpy as np \n",
    "import pandas as pd \n",
    "import sys"
   ]
  },
  {
   "cell_type": "markdown",
   "metadata": {},
   "source": [
    "You can check your version of a package with the `.__version__` attribute. The latest version is '2022.12.9'. "
   ]
  },
  {
   "cell_type": "code",
   "execution_count": null,
   "metadata": {},
   "outputs": [
    {
     "name": "stdout",
     "output_type": "stream",
     "text": [
      "3.8.16 (default, Jan 17 2023, 23:13:24) \n",
      "[GCC 11.2.0]\n"
     ]
    }
   ],
   "source": [
    "print(sys.version)"
   ]
  },
  {
   "cell_type": "code",
   "execution_count": null,
   "metadata": {},
   "outputs": [
    {
     "name": "stdout",
     "output_type": "stream",
     "text": [
      "2022.12.9\n"
     ]
    }
   ],
   "source": [
    "print(molmass.__version__)"
   ]
  },
  {
   "cell_type": "markdown",
   "metadata": {},
   "source": [
    "Let's explore the properties of caffeine as detailed in the [code example](https://pypi.org/project/molmass/). "
   ]
  },
  {
   "cell_type": "code",
   "execution_count": null,
   "metadata": {},
   "outputs": [
    {
     "data": {
      "text/plain": [
       "Formula('C8H10N4O2')"
      ]
     },
     "execution_count": null,
     "metadata": {},
     "output_type": "execute_result"
    }
   ],
   "source": [
    "from molmass import Formula\n",
    "f = Formula('C8H10N4O2')  # Caffeine\n",
    "f"
   ]
  },
  {
   "cell_type": "markdown",
   "metadata": {},
   "source": [
    "And look up the *average*, *nominal* and *monoisotopic mass*. "
   ]
  },
  {
   "cell_type": "code",
   "execution_count": null,
   "metadata": {},
   "outputs": [
    {
     "data": {
      "text/plain": [
       "194.19095199999998"
      ]
     },
     "execution_count": null,
     "metadata": {},
     "output_type": "execute_result"
    }
   ],
   "source": [
    "f.mass  # average mass "
   ]
  },
  {
   "cell_type": "code",
   "execution_count": null,
   "metadata": {},
   "outputs": [
    {
     "data": {
      "text/plain": [
       "194"
      ]
     },
     "execution_count": null,
     "metadata": {},
     "output_type": "execute_result"
    }
   ],
   "source": [
    "f.nominal_mass  # == f.isotope.massnumber in previous package version"
   ]
  },
  {
   "cell_type": "code",
   "execution_count": null,
   "metadata": {},
   "outputs": [
    {
     "data": {
      "text/plain": [
       "194.08037557916"
      ]
     },
     "execution_count": null,
     "metadata": {},
     "output_type": "execute_result"
    }
   ],
   "source": [
    "f.monoisotopic_mass  # == f.isotope.mass in previous package version "
   ]
  },
  {
   "cell_type": "code",
   "execution_count": null,
   "metadata": {},
   "outputs": [
    {
     "data": {
      "text/html": [
       "<div>\n",
       "<style scoped>\n",
       "    .dataframe tbody tr th:only-of-type {\n",
       "        vertical-align: middle;\n",
       "    }\n",
       "\n",
       "    .dataframe tbody tr th {\n",
       "        vertical-align: top;\n",
       "    }\n",
       "\n",
       "    .dataframe thead th {\n",
       "        text-align: right;\n",
       "    }\n",
       "</style>\n",
       "<table border=\"1\" class=\"dataframe\">\n",
       "  <thead>\n",
       "    <tr style=\"text-align: right;\">\n",
       "      <th></th>\n",
       "      <th>Count</th>\n",
       "      <th>Relative mass</th>\n",
       "      <th>Fraction</th>\n",
       "    </tr>\n",
       "    <tr>\n",
       "      <th>Element</th>\n",
       "      <th></th>\n",
       "      <th></th>\n",
       "      <th></th>\n",
       "    </tr>\n",
       "  </thead>\n",
       "  <tbody>\n",
       "    <tr>\n",
       "      <th>C</th>\n",
       "      <td>8</td>\n",
       "      <td>96.085920</td>\n",
       "      <td>0.494801</td>\n",
       "    </tr>\n",
       "    <tr>\n",
       "      <th>H</th>\n",
       "      <td>10</td>\n",
       "      <td>10.079410</td>\n",
       "      <td>0.051905</td>\n",
       "    </tr>\n",
       "    <tr>\n",
       "      <th>N</th>\n",
       "      <td>4</td>\n",
       "      <td>56.026812</td>\n",
       "      <td>0.288514</td>\n",
       "    </tr>\n",
       "    <tr>\n",
       "      <th>O</th>\n",
       "      <td>2</td>\n",
       "      <td>31.998810</td>\n",
       "      <td>0.164780</td>\n",
       "    </tr>\n",
       "  </tbody>\n",
       "</table>\n",
       "</div>"
      ],
      "text/plain": [
       "         Count  Relative mass  Fraction\n",
       "Element                                \n",
       "C            8      96.085920  0.494801\n",
       "H           10      10.079410  0.051905\n",
       "N            4      56.026812  0.288514\n",
       "O            2      31.998810  0.164780"
      ]
     },
     "execution_count": null,
     "metadata": {},
     "output_type": "execute_result"
    }
   ],
   "source": [
    "f.composition().dataframe()"
   ]
  },
  {
   "cell_type": "markdown",
   "metadata": {},
   "source": [
    "Next, let's compute the mass spectrum for caffeine for all the different isotope combinations. "
   ]
  },
  {
   "cell_type": "code",
   "execution_count": null,
   "metadata": {},
   "outputs": [
    {
     "data": {
      "text/html": [
       "<div>\n",
       "<style scoped>\n",
       "    .dataframe tbody tr th:only-of-type {\n",
       "        vertical-align: middle;\n",
       "    }\n",
       "\n",
       "    .dataframe tbody tr th {\n",
       "        vertical-align: top;\n",
       "    }\n",
       "\n",
       "    .dataframe thead th {\n",
       "        text-align: right;\n",
       "    }\n",
       "</style>\n",
       "<table border=\"1\" class=\"dataframe\">\n",
       "  <thead>\n",
       "    <tr style=\"text-align: right;\">\n",
       "      <th></th>\n",
       "      <th>Relative mass</th>\n",
       "      <th>Fraction</th>\n",
       "      <th>Intensity %</th>\n",
       "      <th>m/z</th>\n",
       "    </tr>\n",
       "    <tr>\n",
       "      <th>Mass number</th>\n",
       "      <th></th>\n",
       "      <th></th>\n",
       "      <th></th>\n",
       "      <th></th>\n",
       "    </tr>\n",
       "  </thead>\n",
       "  <tbody>\n",
       "    <tr>\n",
       "      <th>194</th>\n",
       "      <td>194.080376</td>\n",
       "      <td>8.988278e-01</td>\n",
       "      <td>1.000000e+02</td>\n",
       "      <td>194.080376</td>\n",
       "    </tr>\n",
       "    <tr>\n",
       "      <th>195</th>\n",
       "      <td>195.082873</td>\n",
       "      <td>9.262511e-02</td>\n",
       "      <td>1.030510e+01</td>\n",
       "      <td>195.082873</td>\n",
       "    </tr>\n",
       "    <tr>\n",
       "      <th>196</th>\n",
       "      <td>196.084968</td>\n",
       "      <td>8.021964e-03</td>\n",
       "      <td>8.924917e-01</td>\n",
       "      <td>196.084968</td>\n",
       "    </tr>\n",
       "    <tr>\n",
       "      <th>197</th>\n",
       "      <td>197.087214</td>\n",
       "      <td>5.004776e-04</td>\n",
       "      <td>5.568114e-02</td>\n",
       "      <td>197.087214</td>\n",
       "    </tr>\n",
       "    <tr>\n",
       "      <th>198</th>\n",
       "      <td>198.089410</td>\n",
       "      <td>2.370420e-05</td>\n",
       "      <td>2.637235e-03</td>\n",
       "      <td>198.089410</td>\n",
       "    </tr>\n",
       "    <tr>\n",
       "      <th>199</th>\n",
       "      <td>199.091577</td>\n",
       "      <td>9.094718e-07</td>\n",
       "      <td>1.011842e-04</td>\n",
       "      <td>199.091577</td>\n",
       "    </tr>\n",
       "    <tr>\n",
       "      <th>200</th>\n",
       "      <td>200.093769</td>\n",
       "      <td>2.738857e-08</td>\n",
       "      <td>3.047143e-06</td>\n",
       "      <td>200.093769</td>\n",
       "    </tr>\n",
       "    <tr>\n",
       "      <th>201</th>\n",
       "      <td>201.095939</td>\n",
       "      <td>6.190814e-10</td>\n",
       "      <td>6.887653e-08</td>\n",
       "      <td>201.095939</td>\n",
       "    </tr>\n",
       "    <tr>\n",
       "      <th>202</th>\n",
       "      <td>202.098016</td>\n",
       "      <td>1.031659e-11</td>\n",
       "      <td>1.147783e-09</td>\n",
       "      <td>202.098016</td>\n",
       "    </tr>\n",
       "    <tr>\n",
       "      <th>203</th>\n",
       "      <td>203.099952</td>\n",
       "      <td>1.265261e-13</td>\n",
       "      <td>1.407679e-11</td>\n",
       "      <td>203.099952</td>\n",
       "    </tr>\n",
       "    <tr>\n",
       "      <th>204</th>\n",
       "      <td>204.101915</td>\n",
       "      <td>1.092906e-15</td>\n",
       "      <td>1.215924e-13</td>\n",
       "      <td>204.101915</td>\n",
       "    </tr>\n",
       "    <tr>\n",
       "      <th>205</th>\n",
       "      <td>205.104365</td>\n",
       "      <td>4.529557e-18</td>\n",
       "      <td>5.039404e-16</td>\n",
       "      <td>205.104365</td>\n",
       "    </tr>\n",
       "  </tbody>\n",
       "</table>\n",
       "</div>"
      ],
      "text/plain": [
       "             Relative mass      Fraction   Intensity %         m/z\n",
       "Mass number                                                       \n",
       "194             194.080376  8.988278e-01  1.000000e+02  194.080376\n",
       "195             195.082873  9.262511e-02  1.030510e+01  195.082873\n",
       "196             196.084968  8.021964e-03  8.924917e-01  196.084968\n",
       "197             197.087214  5.004776e-04  5.568114e-02  197.087214\n",
       "198             198.089410  2.370420e-05  2.637235e-03  198.089410\n",
       "199             199.091577  9.094718e-07  1.011842e-04  199.091577\n",
       "200             200.093769  2.738857e-08  3.047143e-06  200.093769\n",
       "201             201.095939  6.190814e-10  6.887653e-08  201.095939\n",
       "202             202.098016  1.031659e-11  1.147783e-09  202.098016\n",
       "203             203.099952  1.265261e-13  1.407679e-11  203.099952\n",
       "204             204.101915  1.092906e-15  1.215924e-13  204.101915\n",
       "205             205.104365  4.529557e-18  5.039404e-16  205.104365"
      ]
     },
     "execution_count": null,
     "metadata": {},
     "output_type": "execute_result"
    }
   ],
   "source": [
    "df = f.spectrum().dataframe()\n",
    "df"
   ]
  },
  {
   "cell_type": "markdown",
   "metadata": {},
   "source": [
    "Let's plot the the mass spectrum..."
   ]
  },
  {
   "cell_type": "code",
   "execution_count": null,
   "metadata": {},
   "outputs": [],
   "source": [
    "import matplotlib.pyplot as plt"
   ]
  },
  {
   "cell_type": "code",
   "execution_count": null,
   "metadata": {},
   "outputs": [
    {
     "data": {
      "text/html": [
       "..<img src=\"./images/05_libraries_a6dbef0c32.png\">"
      ]
     },
     "execution_count": null,
     "metadata": {},
     "output_type": "execute_result"
    }
   ],
   "source": [
    "#|code-fold: true \n",
    "fig, ax = plt.subplots()\n",
    "ax.scatter(df['Relative mass'], df['Fraction'])\n",
    "ax.set_xlabel('Monoisotopic mass (u)')\n",
    "ax.set_ylabel('Mass fraction')\n",
    "ax.set_title('Caffeine mass spectrum');"
   ]
  },
  {
   "cell_type": "markdown",
   "metadata": {},
   "source": [
    "Here is also the mass spectrum for the different isotopes of iron. "
   ]
  },
  {
   "cell_type": "code",
   "execution_count": null,
   "metadata": {},
   "outputs": [],
   "source": [
    "Fe = Formula('Fe')"
   ]
  },
  {
   "cell_type": "code",
   "execution_count": null,
   "metadata": {},
   "outputs": [
    {
     "data": {
      "text/html": [
       "<div>\n",
       "<style scoped>\n",
       "    .dataframe tbody tr th:only-of-type {\n",
       "        vertical-align: middle;\n",
       "    }\n",
       "\n",
       "    .dataframe tbody tr th {\n",
       "        vertical-align: top;\n",
       "    }\n",
       "\n",
       "    .dataframe thead th {\n",
       "        text-align: right;\n",
       "    }\n",
       "</style>\n",
       "<table border=\"1\" class=\"dataframe\">\n",
       "  <thead>\n",
       "    <tr style=\"text-align: right;\">\n",
       "      <th></th>\n",
       "      <th>Relative mass</th>\n",
       "      <th>Fraction</th>\n",
       "      <th>Intensity %</th>\n",
       "      <th>m/z</th>\n",
       "    </tr>\n",
       "    <tr>\n",
       "      <th>Mass number</th>\n",
       "      <th></th>\n",
       "      <th></th>\n",
       "      <th></th>\n",
       "      <th></th>\n",
       "    </tr>\n",
       "  </thead>\n",
       "  <tbody>\n",
       "    <tr>\n",
       "      <th>54</th>\n",
       "      <td>53.939609</td>\n",
       "      <td>0.05845</td>\n",
       "      <td>6.370294</td>\n",
       "      <td>53.939609</td>\n",
       "    </tr>\n",
       "    <tr>\n",
       "      <th>56</th>\n",
       "      <td>55.934936</td>\n",
       "      <td>0.91754</td>\n",
       "      <td>100.000000</td>\n",
       "      <td>55.934936</td>\n",
       "    </tr>\n",
       "    <tr>\n",
       "      <th>57</th>\n",
       "      <td>56.935393</td>\n",
       "      <td>0.02119</td>\n",
       "      <td>2.309436</td>\n",
       "      <td>56.935393</td>\n",
       "    </tr>\n",
       "    <tr>\n",
       "      <th>58</th>\n",
       "      <td>57.933274</td>\n",
       "      <td>0.00282</td>\n",
       "      <td>0.307344</td>\n",
       "      <td>57.933274</td>\n",
       "    </tr>\n",
       "  </tbody>\n",
       "</table>\n",
       "</div>"
      ],
      "text/plain": [
       "             Relative mass  Fraction  Intensity %        m/z\n",
       "Mass number                                                 \n",
       "54               53.939609   0.05845     6.370294  53.939609\n",
       "56               55.934936   0.91754   100.000000  55.934936\n",
       "57               56.935393   0.02119     2.309436  56.935393\n",
       "58               57.933274   0.00282     0.307344  57.933274"
      ]
     },
     "execution_count": null,
     "metadata": {},
     "output_type": "execute_result"
    }
   ],
   "source": [
    "Fe.spectrum().dataframe()"
   ]
  },
  {
   "cell_type": "code",
   "execution_count": null,
   "metadata": {},
   "outputs": [
    {
     "data": {
      "text/plain": [
       "14.01565006446"
      ]
     },
     "execution_count": null,
     "metadata": {},
     "output_type": "execute_result"
    }
   ],
   "source": [
    "CH2 = Formula('CH2')\n",
    "CH2.monoisotopic_mass"
   ]
  },
  {
   "cell_type": "markdown",
   "metadata": {},
   "source": [
    "## `pyhrms`  \n",
    "\n",
    "Need to look into this. \n",
    "\n",
    "See: [https://pypi.org/project/pyhrms/](https://pypi.org/project/pyhrms/)"
   ]
  },
  {
   "cell_type": "markdown",
   "metadata": {},
   "source": [
    "## `pymzml`   \n",
    "\n",
    "Need to look into this. \n",
    "\n",
    "See: [https://pypi.org/project/pymzml/](https://pypi.org/project/pymzml/) \n",
    "\n",
    "This seems to be an important package. Here is the documentation: [https://pymzml.readthedocs.io/en/latest/](https://pymzml.readthedocs.io/en/latest/)"
   ]
  }
 ],
 "metadata": {
  "kernelspec": {
   "display_name": "python3",
   "language": "python",
   "name": "python3"
  }
 },
 "nbformat": 4,
 "nbformat_minor": 4
}
