{
 "cells": [
  {
   "cell_type": "code",
   "execution_count": null,
   "metadata": {},
   "outputs": [],
   "source": [
    "#| default_exp chemistry"
   ]
  },
  {
   "cell_type": "raw",
   "metadata": {},
   "source": [
    "---\n",
    "bibliography: my.bib \n",
    "--- "
   ]
  },
  {
   "cell_type": "markdown",
   "metadata": {},
   "source": [
    "# Introducing Kendrick mass plots \n",
    "\n",
    "> A quick primer on Kendrick mass plots "
   ]
  },
  {
   "cell_type": "markdown",
   "metadata": {},
   "source": [
    "The precise atomic mass of each chemical element deviates from the theoretical mass that one would expect based on the number of protons and neutrons present in the nucleus. This deviation is unique for each type of atom or molecule and is called the mass defect... \n",
    "\n",
    "A good introduction is given by [@Fouquet_2019]. \n"
   ]
  },
  {
   "cell_type": "code",
   "execution_count": null,
   "metadata": {},
   "outputs": [
    {
     "name": "stdout",
     "output_type": "stream",
     "text": [
      "Writing my.bib\n"
     ]
    }
   ],
   "source": [
    "#| hide \n",
    "%%writefile my.bib \n",
    "\n",
    "@Article{Fouquet_2019,\n",
    "  author    = {Fouquet, Thierry NJ},\n",
    "  title     = {The Kendrick analysis for polymer mass spectrometry},\n",
    "  journal   = {Journal of Mass Spectrometry},\n",
    "  year      = {2019},\n",
    "  volume    = {54},\n",
    "  number    = {12},\n",
    "  pages     = {933--947},\n",
    "  file      = {:Fouquet 2019 The Kendrick analysis for polymer mass spectrometry.pdf:PDF},\n",
    "  publisher = {Wiley Online Library},\n",
    "}\n",
    "\n"
   ]
  }
 ],
 "metadata": {
  "kernelspec": {
   "display_name": "Python 3",
   "language": "python",
   "name": "python3"
  }
 },
 "nbformat": 4,
 "nbformat_minor": 4
}
