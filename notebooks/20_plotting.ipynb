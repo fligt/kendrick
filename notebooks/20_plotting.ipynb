{
 "cells": [
  {
   "cell_type": "markdown",
   "metadata": {},
   "source": [
    "# Plotting\n",
    "\n",
    "> How to create interactive plots with Quarto?"
   ]
  },
  {
   "cell_type": "markdown",
   "metadata": {},
   "source": [
    "According to the Quarto documentation, it should be straightforward to create interactive plots. For a start, let's simply copy their code examples. \n",
    "\n",
    "See: [https://quarto.org/docs/interactive/widgets/jupyter.html](https://quarto.org/docs/interactive/widgets/jupyter.html)"
   ]
  },
  {
   "cell_type": "code",
   "execution_count": null,
   "metadata": {},
   "outputs": [
    {
     "data": {
      "application/vnd.jupyter.widget-view+json": {
       "model_id": "a1d8751b7cf841b29178fb233690528e",
       "version_major": 2,
       "version_minor": 0
      },
      "text/plain": [
       "Map(center=[52.204793, 360.121558], controls=(ZoomControl(options=['position', 'zoom_in_text', 'zoom_in_title'…"
      ]
     },
     "execution_count": null,
     "metadata": {},
     "output_type": "execute_result"
    }
   ],
   "source": [
    "from ipyleaflet import Map, Marker, basemaps, basemap_to_tiles\n",
    "m = Map(\n",
    "  basemap=basemap_to_tiles(\n",
    "    basemaps.NASAGIBS.ModisTerraTrueColorCR, \"2017-04-08\"\n",
    "  ),\n",
    "  center=(52.204793, 360.121558),\n",
    "  zoom=4\n",
    ")\n",
    "m.add_layer(Marker(location=(52.204793, 360.121558)))\n",
    "m"
   ]
  }
 ],
 "metadata": {
  "kernelspec": {
   "display_name": "Python 3",
   "language": "python",
   "name": "python3"
  }
 },
 "nbformat": 4,
 "nbformat_minor": 2
}
