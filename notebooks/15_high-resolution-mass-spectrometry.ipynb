{
 "cells": [
  {
   "cell_type": "raw",
   "id": "c2a3a87a-c4e0-4a8c-aed5-6f3290fa9222",
   "metadata": {},
   "source": [
    "---\n",
    "skip_exec: true\n",
    "---"
   ]
  },
  {
   "cell_type": "markdown",
   "id": "d10d69c2-889b-4328-b338-e6386323c10f",
   "metadata": {},
   "source": [
    "# High resolution mass spectrometry \n",
    "\n",
    "> Behind the decimal point "
   ]
  },
  {
   "cell_type": "markdown",
   "id": "f39485b3-9862-4c42-9f81-d0f8dd8affb6",
   "metadata": {},
   "source": [
    "Given our ability to create high precision *m/z* values by time averaged centroiding, we should now be able to derive statistics and deduce the elemental composition of different ions in our data.     "
   ]
  },
  {
   "cell_type": "code",
   "execution_count": null,
   "id": "c6714a58-b8c1-41a4-bd35-70af092fb1d2",
   "metadata": {},
   "outputs": [],
   "source": [
    "from kendrick import read_mzml, histogram, get_time_averaged_centroids "
   ]
  },
  {
   "cell_type": "code",
   "execution_count": null,
   "id": "a607061f-dfda-4c50-b0ff-c694d87f7434",
   "metadata": {},
   "outputs": [],
   "source": [
    "mzml_file = '/home/frank/Work/DATA/kendrick-data/Ref0443_casein_asap01.mzML' # TODO: create download function \n",
    "df_pos, df_min = read_mzml(mzml_file)\n",
    "\n",
    "mz_hist = histogram(df_pos)\n",
    "mz_centroids = get_time_averaged_centroids(mz_hist)"
   ]
  },
  {
   "cell_type": "code",
   "execution_count": null,
   "id": "9a3b7811-77b9-466a-a63b-ecd5b20af7a3",
   "metadata": {},
   "outputs": [],
   "source": [
    "mz_x, mz_y = mz_centroids.T"
   ]
  },
  {
   "cell_type": "markdown",
   "id": "98c37d63-955a-4268-839a-52ec62d1c679",
   "metadata": {},
   "source": [
    "Let's start by plotting this. "
   ]
  },
  {
   "cell_type": "code",
   "execution_count": null,
   "id": "bd8d3313-3da7-4ab7-8387-b3d95c423030",
   "metadata": {},
   "outputs": [],
   "source": [
    "import matplotlib.pyplot as plt \n",
    "import numpy as np "
   ]
  },
  {
   "cell_type": "code",
   "execution_count": null,
   "id": "09de2e9a-d85d-49ab-b6d6-91637f330135",
   "metadata": {},
   "outputs": [],
   "source": [
    "%matplotlib widget"
   ]
  },
  {
   "cell_type": "code",
   "execution_count": null,
   "id": "2a8e6ed0-393f-4fc7-be0f-0db1010ea2b3",
   "metadata": {},
   "outputs": [
    {
     "data": {
      "text/plain": [
       "<matplotlib.collections.LineCollection>"
      ]
     },
     "execution_count": null,
     "metadata": {},
     "output_type": "execute_result"
    },
    {
     "data": {
      "application/vnd.jupyter.widget-view+json": {
       "model_id": "557cd01cb1b94810a6496c70ad60b75e",
       "version_major": 2,
       "version_minor": 0
      },
      "image/png": "[encoded data removed]",
      "text/html": [
       "\n",
       "            <div style=\"display: inline-block;\">\n",
       "                <div class=\"jupyter-widgets widget-label\" style=\"text-align: center;\">\n",
       "                    Figure\n",
       "                </div>\n",
       "                <img src='data:image/png;base64,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' width=640.0/>\n",
       "            </div>\n",
       "        "
      ],
      "text/plain": [
       "Canvas(toolbar=Toolbar(toolitems=[('Home', 'Reset original view', 'home', 'home'), ('Back', 'Back to previous …"
      ]
     },
     "metadata": {},
     "output_type": "display_data"
    }
   ],
   "source": [
    "fig, ax = plt.subplots()\n",
    "ax.vlines(mz_x, ymin=np.zeros_like(mz_x), ymax=mz_y)"
   ]
  },
  {
   "cell_type": "code",
   "execution_count": null,
   "id": "ffc45113-140c-4b3c-9436-2278a1348f7b",
   "metadata": {},
   "outputs": [],
   "source": [
    "idxs = np.argsort(mz_y)[::-1]"
   ]
  },
  {
   "cell_type": "code",
   "execution_count": null,
   "id": "a695e6b6-3dfc-44d8-ada1-a14b1b53fd1b",
   "metadata": {},
   "outputs": [],
   "source": [
    "mz_sorted = mz_centroids[idxs]"
   ]
  },
  {
   "cell_type": "code",
   "execution_count": null,
   "id": "c2b6a854-82ff-4209-be0c-c9b06f2c8de4",
   "metadata": {},
   "outputs": [
    {
     "data": {
      "text/plain": [
       "array([[2.57247150e+02, 4.94319338e+09],\n",
       "       [2.29216050e+02, 1.46894206e+09],\n",
       "       [2.55233050e+02, 1.17589672e+09],\n",
       "       ...,\n",
       "       [1.60306550e+02, 4.08524079e+03],\n",
       "       [1.48418350e+02, 4.08524079e+03],\n",
       "       [1.31345550e+02, 4.08524079e+03]])"
      ]
     },
     "execution_count": null,
     "metadata": {},
     "output_type": "execute_result"
    }
   ],
   "source": [
    "mz_sorted"
   ]
  },
  {
   "cell_type": "markdown",
   "id": "b51dd6f0-ee69-4884-9db8-0ec166fd9cae",
   "metadata": {},
   "source": [
    "For now let's pick the 10th mz value...  "
   ]
  },
  {
   "cell_type": "code",
   "execution_count": null,
   "id": "fb19a02c-1050-4b05-92fd-9d6bf26fc3f0",
   "metadata": {},
   "outputs": [],
   "source": [
    "mz10 = mz_sorted[10][0]"
   ]
  },
  {
   "cell_type": "code",
   "execution_count": null,
   "id": "8ddf8c46-a78f-4311-9ba7-0c94acbc0f17",
   "metadata": {},
   "outputs": [
    {
     "data": {
      "text/plain": [
       "197.12845"
      ]
     },
     "execution_count": null,
     "metadata": {},
     "output_type": "execute_result"
    }
   ],
   "source": [
    "mz10"
   ]
  },
  {
   "cell_type": "markdown",
   "id": "35dec691-45db-41cb-8b68-29778bcc719c",
   "metadata": {},
   "source": [
    "Can we use `molmass` or `pyopenms` to deduce the elemental composition? "
   ]
  },
  {
   "cell_type": "code",
   "execution_count": null,
   "id": "21f10379-7697-4e30-a4fd-01c8676366b0",
   "metadata": {},
   "outputs": [],
   "source": [
    "import molmass as mm"
   ]
  },
  {
   "cell_type": "markdown",
   "id": "4c67f260-9210-440e-8be5-2b2d64177a90",
   "metadata": {},
   "source": [
    "This is the latest version "
   ]
  },
  {
   "cell_type": "code",
   "execution_count": null,
   "id": "2bc7c4f5-d187-41b8-a70c-8d517f6cd3a1",
   "metadata": {},
   "outputs": [
    {
     "data": {
      "text/plain": [
       "'2023.8.30'"
      ]
     },
     "execution_count": null,
     "metadata": {},
     "output_type": "execute_result"
    }
   ],
   "source": [
    "mm.__version__"
   ]
  },
  {
   "cell_type": "code",
   "execution_count": null,
   "id": "1b403746-d692-4e43-b9c5-3b3e230cc4f2",
   "metadata": {},
   "outputs": [],
   "source": [
    "f = mm.Formula('CH2')"
   ]
  },
  {
   "cell_type": "code",
   "execution_count": null,
   "id": "cfdc6000-a795-4690-b32e-4a0b95807ac2",
   "metadata": {},
   "outputs": [
    {
     "data": {
      "text/html": [
       "<div>\n",
       "<style scoped>\n",
       "    .dataframe tbody tr th:only-of-type {\n",
       "        vertical-align: middle;\n",
       "    }\n",
       "\n",
       "    .dataframe tbody tr th {\n",
       "        vertical-align: top;\n",
       "    }\n",
       "\n",
       "    .dataframe thead th {\n",
       "        text-align: right;\n",
       "    }\n",
       "</style>\n",
       "<table border=\"1\" class=\"dataframe\">\n",
       "  <thead>\n",
       "    <tr style=\"text-align: right;\">\n",
       "      <th></th>\n",
       "      <th>Relative mass</th>\n",
       "      <th>Fraction</th>\n",
       "      <th>Intensity %</th>\n",
       "      <th>m/z</th>\n",
       "    </tr>\n",
       "    <tr>\n",
       "      <th>Mass number</th>\n",
       "      <th></th>\n",
       "      <th></th>\n",
       "      <th></th>\n",
       "      <th></th>\n",
       "    </tr>\n",
       "  </thead>\n",
       "  <tbody>\n",
       "    <tr>\n",
       "      <th>14</th>\n",
       "      <td>14.015650</td>\n",
       "      <td>9.890725e-01</td>\n",
       "      <td>1.000000e+02</td>\n",
       "      <td>14.015650</td>\n",
       "    </tr>\n",
       "    <tr>\n",
       "      <th>15</th>\n",
       "      <td>15.019066</td>\n",
       "      <td>1.092505e-02</td>\n",
       "      <td>1.104575e+00</td>\n",
       "      <td>15.019066</td>\n",
       "    </tr>\n",
       "    <tr>\n",
       "      <th>16</th>\n",
       "      <td>16.025297</td>\n",
       "      <td>2.473800e-06</td>\n",
       "      <td>2.501132e-04</td>\n",
       "      <td>16.025297</td>\n",
       "    </tr>\n",
       "    <tr>\n",
       "      <th>17</th>\n",
       "      <td>17.031558</td>\n",
       "      <td>1.415075e-10</td>\n",
       "      <td>1.430709e-08</td>\n",
       "      <td>17.031558</td>\n",
       "    </tr>\n",
       "  </tbody>\n",
       "</table>\n",
       "</div>"
      ],
      "text/plain": [
       "             Relative mass      Fraction   Intensity %        m/z\n",
       "Mass number                                                      \n",
       "14               14.015650  9.890725e-01  1.000000e+02  14.015650\n",
       "15               15.019066  1.092505e-02  1.104575e+00  15.019066\n",
       "16               16.025297  2.473800e-06  2.501132e-04  16.025297\n",
       "17               17.031558  1.415075e-10  1.430709e-08  17.031558"
      ]
     },
     "execution_count": null,
     "metadata": {},
     "output_type": "execute_result"
    }
   ],
   "source": [
    "f.spectrum().dataframe()"
   ]
  },
  {
   "cell_type": "markdown",
   "id": "d4bdb08f-ddf6-4785-8546-2331024036ca",
   "metadata": {},
   "source": [
    "Let's generate a bunch of elemental compositions... "
   ]
  },
  {
   "cell_type": "code",
   "execution_count": null,
   "id": "c049ab09-bc31-4db0-b27a-fd5475427966",
   "metadata": {},
   "outputs": [],
   "source": [
    "import numpy as np"
   ]
  },
  {
   "cell_type": "code",
   "execution_count": null,
   "id": "e58c294e-4e55-4320-8e3f-69b2f0279191",
   "metadata": {},
   "outputs": [
    {
     "data": {
      "text/plain": [
       "array([[0, 0, 0],\n",
       "       [1, 0, 0],\n",
       "       [0, 1, 0],\n",
       "       [1, 1, 0],\n",
       "       [0, 0, 1],\n",
       "       [1, 0, 1],\n",
       "       [0, 1, 1],\n",
       "       [1, 1, 1]])"
      ]
     },
     "execution_count": null,
     "metadata": {},
     "output_type": "execute_result"
    }
   ],
   "source": [
    "positions = np.indices([2, 2, 2]).T.reshape(-1, 3)\n",
    "positions"
   ]
  },
  {
   "cell_type": "code",
   "execution_count": null,
   "id": "0fbb743e-c04a-4dd4-9742-a4ba10acd4bd",
   "metadata": {},
   "outputs": [],
   "source": [
    "def formula(pos):  \n",
    "    n1, n2, n3 = pos \n",
    "    formula_str = 'C'"
   ]
  },
  {
   "cell_type": "code",
   "execution_count": null,
   "id": "0c3e4383-4dad-4f72-a6f6-287a04bf972c",
   "metadata": {},
   "outputs": [],
   "source": [
    "formula_list = [] \n",
    "elements = ['C', 'H', 'O']\n",
    "for p in positions: \n",
    "    formula = ''\n",
    "    for i, n in enumerate(p): \n",
    "        if n == 0: \n",
    "            elem_str = ''\n",
    "        elif n == 1: \n",
    "            elem_str = elements[i]\n",
    "        else: \n",
    "            elem_str = f'{elements[i]}{n}'\n",
    "        formula = formula + elem_str\n",
    "    \n",
    "    formula_list.append(formula)"
   ]
  },
  {
   "cell_type": "code",
   "execution_count": null,
   "id": "e68ee228-8638-4a93-8cd4-8049a091e13d",
   "metadata": {},
   "outputs": [
    {
     "data": {
      "text/plain": [
       "['', 'C', 'H', 'CH', 'O', 'CO', 'HO', 'CHO']"
      ]
     },
     "execution_count": null,
     "metadata": {},
     "output_type": "execute_result"
    }
   ],
   "source": [
    "formula_list"
   ]
  },
  {
   "cell_type": "code",
   "execution_count": null,
   "id": "1ecf4ed2-9986-433f-9067-d01507259191",
   "metadata": {},
   "outputs": [
    {
     "data": {
      "text/plain": [
       "'HH'"
      ]
     },
     "execution_count": null,
     "metadata": {},
     "output_type": "execute_result"
    }
   ],
   "source": [
    "'C' * 0 + 'H' * 2"
   ]
  },
  {
   "cell_type": "code",
   "execution_count": null,
   "id": "e52c77c1-a69c-460a-93d3-579e61d41769",
   "metadata": {},
   "outputs": [
    {
     "data": {
      "text/plain": [
       "[(array(['C', 'H'], dtype='<U1'),), (array([1, 2]),)]"
      ]
     },
     "execution_count": null,
     "metadata": {},
     "output_type": "execute_result"
    }
   ],
   "source": [
    "elements np.unique(np.array(list('CHH')), return_counts=True)))"
   ]
  },
  {
   "cell_type": "code",
   "execution_count": null,
   "id": "b7b2ef16-c734-4092-bdd7-8049f24ae98c",
   "metadata": {},
   "outputs": [
    {
     "data": {
      "text/plain": [
       "(array(['C', 'H'], dtype='<U1'), array([1, 2]))"
      ]
     },
     "execution_count": null,
     "metadata": {},
     "output_type": "execute_result"
    }
   ],
   "source": [
    "unique, counts"
   ]
  },
  {
   "cell_type": "code",
   "execution_count": null,
   "id": "177e8d89-8b08-453b-81db-e6af0e4d74d4",
   "metadata": {},
   "outputs": [],
   "source": []
  }
 ],
 "metadata": {
  "kernelspec": {
   "display_name": "python3",
   "language": "python",
   "name": "python3"
  }
 },
 "nbformat": 4,
 "nbformat_minor": 5
}
