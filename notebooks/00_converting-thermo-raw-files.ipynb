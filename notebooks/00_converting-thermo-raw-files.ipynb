{
 "cells": [
  {
   "cell_type": "markdown",
   "metadata": {},
   "source": [
    "# Converting Thermo raw files "
   ]
  },
  {
   "cell_type": "markdown",
   "metadata": {},
   "source": [
    "> First things first. Reliable conversion of Thermo .raw files into open standard formats.  "
   ]
  },
  {
   "cell_type": "markdown",
   "metadata": {},
   "source": [
    "Searching for existing solutions to read and convert Thermo raw files I found some interesting solutions. \n",
    "\n",
    "**RawQuant**\n",
    "\n",
    "[https://github.com/kevinkovalchik/RawQuant](https://github.com/kevinkovalchik/RawQuant) and RawTools (based on .NET) \n",
    "\n",
    "**ThermoRawFileParser** \n",
    "\n",
    "Requires Mono on Linux, should work out of the box in Windows.\n",
    "\n",
    "[https://www.ncbi.nlm.nih.gov/pmc/articles/PMC7116465/](https://www.ncbi.nlm.nih.gov/pmc/articles/PMC7116465/) \n",
    "\n",
    "[https://github.com/compomics/ThermoRawFileParser](https://github.com/compomics/ThermoRawFileParser)\n",
    "\n",
    "[https://github.com/compomics/ThermoRawFileParser/releases](https://github.com/compomics/ThermoRawFileParser/releases) \n",
    "\n"
   ]
  }
 ],
 "metadata": {
  "kernelspec": {
   "display_name": "Python 3",
   "language": "python",
   "name": "python3"
  }
 },
 "nbformat": 4,
 "nbformat_minor": 2
}
