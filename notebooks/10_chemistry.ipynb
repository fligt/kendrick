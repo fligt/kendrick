{
 "cells": [
  {
   "cell_type": "code",
   "execution_count": null,
   "metadata": {},
   "outputs": [],
   "source": [
    "#| default_exp chemistry"
   ]
  },
  {
   "cell_type": "raw",
   "metadata": {},
   "source": [
    "---\n",
    "bibliography: my.bib \n",
    "--- "
   ]
  },
  {
   "cell_type": "markdown",
   "metadata": {},
   "source": [
    "https://pypi.org/project/pyhrms/\n",
    "\n",
    "https://pypi.org/project/molmass/"
   ]
  },
  {
   "cell_type": "markdown",
   "metadata": {},
   "source": [
    "# Kendrick mass defect \n",
    "\n",
    "> Discovering repetitions of monomers by rounding off "
   ]
  },
  {
   "cell_type": "code",
   "execution_count": null,
   "metadata": {},
   "outputs": [],
   "source": []
  },
  {
   "cell_type": "markdown",
   "metadata": {},
   "source": [
    "Before we can create Kendrick mass defect plots we need to understand exactly how to calculate Kendrick mass and Kendrick mass defects. Let's start with the [Wikipedia page on mass spectrometry](https://en.wikipedia.org/wiki/Mass_(mass_spectrometry)). Being a physicist I must confess I wasn't aware of the multitude of mass definitions that need to be carefully distinguished. Also, I wasn't aware that different definitions of mass defect are being used in physics and chemistry. \n",
    "\n",
    "Reason for this difference seems to be that within nuclear physics it is necessary to distinguish between the mass of proton and neutrons. Within chemistry this distinction is unnecessarily complicating the analysis. Instead, a premise of chemical mass spectrometry is that both protons and neutrons carry a similar mass. \n",
    "\n",
    "Let's start with the definition of the *Kendrick mass* and *Kendrick mass defect*. According to wikipedia the Kendrick mass for a family of compounds $F$ is given by\n",
    "\n",
    "$$ \\mathrm{Kendrick~mass}~(F) = (\\mathrm{observed~mass}) \\times \\frac{\\mathrm{nominal~mass~(F)}}{\\mathrm{exact~mass~(F)}}.$$\n",
    "\n",
    "For hydrocarbon analysis, $F = \\mathrm{CH_2}$.  \n",
    "\n",
    "The Kendrick mass defect of a specific measured molecular mass is the fractional part of the Kendrick Mass. "
   ]
  },
  {
   "cell_type": "markdown",
   "metadata": {},
   "source": [
    ">The **nominal mass** for an element is the mass number (the number of protons plus neutrons) of its most abundant naturally occurring stable isotope, and for an ion or molecule, the nominal mass is the sum of the nominal masses of the constituent atoms.[4][5] Isotope abundances are tabulated by IUPAC:[6] for example carbon has two stable isotopes 12C at 98.9% natural abundance and 13C at 1.1% natural abundance, thus the nominal mass of carbon is 12. The nominal mass is not always the lowest mass number, for example iron has isotopes $^{54}$**Fe**, $^{56}$**Fe**, $^{57}$**Fe**, and $^{58}$**Fe** with abundances 6%, 92%, 2%, and 0.3%, respectively, and a nominal mass of 56 Da. For a molecule, the nominal mass is obtained by summing the nominal masses of the constituent elements, for example water has two hydrogen atoms with nominal mass 1 Da and one oxygen atom with nominal mass 16 Da, therefore the nominal mass of H2O is 18 Da. \n",
    ">\n",
    ">In mass spectrometry, the difference between the nominal mass and the monoisotopic mass is the mass defect.[7] This differs from the definition of mass defect used in physics which is the difference between the mass of a composite particle and the sum of the masses of its constituent parts.[8] \n",
    "\n",
    "\n",
    ">The **exact mass** of an isotopic species (more appropriately, the calculated exact mass[9]) is obtained by summing the masses of the individual isotopes of the molecule. For example, the exact mass of water containing two hydrogen-1 (1H) and one oxygen-16 (16O) is 1.0078 + 1.0078 + 15.9949 = 18.0105 Da. The exact mass of heavy water, containing two hydrogen-2 (deuterium or 2H) and one oxygen-16 (16O) is 2.0141 + 2.0141 + 15.9949 = 20.0229 Da.\n",
    ">\n",
    ">When an exact mass value is given without specifying an isotopic species, it normally refers to the most abundant isotopic species. "
   ]
  },
  {
   "cell_type": "markdown",
   "metadata": {},
   "source": [
    "Let's see how we can calculate the expected up the nominal mass and the exact mass for given monomer with the `mendeleev` python package. "
   ]
  },
  {
   "cell_type": "markdown",
   "metadata": {},
   "source": [
    "\n",
    "The precise atomic mass of each chemical element deviates from the theoretical mass that one would expect based on the number of protons and neutrons present in the nucleus. This deviation is unique for each type of atom or molecule and is called the mass defect... \n",
    "\n",
    "A good introduction is given by [@Fouquet_2019]. \n"
   ]
  },
  {
   "cell_type": "code",
   "execution_count": null,
   "metadata": {},
   "outputs": [
    {
     "name": "stdout",
     "output_type": "stream",
     "text": [
      "Writing my.bib\n"
     ]
    }
   ],
   "source": [
    "#| hide \n",
    "%%writefile my.bib \n",
    "\n",
    "@Article{Fouquet_2019,\n",
    "  author    = {Fouquet, Thierry NJ},\n",
    "  title     = {The Kendrick analysis for polymer mass spectrometry},\n",
    "  journal   = {Journal of Mass Spectrometry},\n",
    "  year      = {2019},\n",
    "  volume    = {54},\n",
    "  number    = {12},\n",
    "  pages     = {933--947},\n",
    "  file      = {:Fouquet 2019 The Kendrick analysis for polymer mass spectrometry.pdf:PDF},\n",
    "  publisher = {Wiley Online Library},\n",
    "}\n",
    "\n"
   ]
  }
 ],
 "metadata": {
  "kernelspec": {
   "display_name": "Python 3",
   "language": "python",
   "name": "python3"
  }
 },
 "nbformat": 4,
 "nbformat_minor": 4
}
