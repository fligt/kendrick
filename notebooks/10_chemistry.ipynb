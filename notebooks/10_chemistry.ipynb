{
 "cells": [
  {
   "cell_type": "code",
   "execution_count": null,
   "metadata": {},
   "outputs": [],
   "source": [
    "#| default_exp chemistry"
   ]
  },
  {
   "cell_type": "raw",
   "metadata": {},
   "source": [
    "---\n",
    "bibliography: /home/frank/Work/BIBL/all.bib \n",
    "--- "
   ]
  },
  {
   "cell_type": "markdown",
   "metadata": {},
   "source": [
    "# Introducing Kendrick mass plots \n",
    "\n",
    "> A quick primer on Kendrick mass plots "
   ]
  },
  {
   "cell_type": "markdown",
   "metadata": {},
   "source": [
    "The precise atomic mass of each chemical element deviates from the theoretical mass that one would expect based on the number of protons and neutrons present in the nucleus. This deviation is unique for each type of atom or molecule and is called the mass defect... \n",
    "\n",
    "A good introduction is given by [@Fouquet_2019]. \n"
   ]
  }
 ],
 "metadata": {
  "kernelspec": {
   "display_name": "Python 3",
   "language": "python",
   "name": "python3"
  }
 },
 "nbformat": 4,
 "nbformat_minor": 4
}
