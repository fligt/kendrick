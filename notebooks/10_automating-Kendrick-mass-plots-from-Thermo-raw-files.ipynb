{
 "cells": [
  {
   "cell_type": "markdown",
   "metadata": {},
   "source": [
    "# Automating Kendrick mass plots from Thermo raw files "
   ]
  },
  {
   "cell_type": "markdown",
   "metadata": {},
   "source": [
    "> Is it possible to automate the generation of Kendrick mass plots with Python?"
   ]
  },
  {
   "cell_type": "markdown",
   "metadata": {},
   "source": [
    "## Reading Thermo .raw files \n",
    "\n",
    "Searching for existing solutions to read Thermo raw files I found some interesting solutions. \n",
    "\n",
    "**RawQuant**\n",
    "\n",
    "https://github.com/kevinkovalchik/RawQuant and RawTools (based on .NET) \n",
    "\n",
    "**ThermoRawFileParser** \n",
    "\n",
    "Requires Mono on Linux, should work out of the box in Windows\n",
    "\n",
    "https://www.ncbi.nlm.nih.gov/pmc/articles/PMC7116465/ \n",
    "\n",
    "https://github.com/compomics/ThermoRawFileParser \n",
    "\n",
    "https://github.com/compomics/ThermoRawFileParser/releases \n",
    "\n"
   ]
  }
 ],
 "metadata": {
  "kernelspec": {
   "display_name": "Python 3",
   "language": "python",
   "name": "python3"
  }
 },
 "nbformat": 4,
 "nbformat_minor": 2
}
