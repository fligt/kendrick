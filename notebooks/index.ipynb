{
 "cells": [
  {
   "cell_type": "markdown",
   "metadata": {},
   "source": [
    "# Welcome to kendrick\n",
    "\n",
    "> A small python package to create Kendrick mass plots from mass spectral data "
   ]
  },
  {
   "cell_type": "markdown",
   "metadata": {},
   "source": [
    "Our lab, the Rijkserfgoedlaboratorium in Amsterdam, currently experiments with direct ionization coupled with high resolution mass spectrometry using Thermo ASAP probe and Orbitrap HRMS. This chemical analysis technique seems well suited to analyze complex polymeric samples. Visualization of the resulting data in so-called Kendrick mass plots provides a means to efficiently explore this type of data. \n",
    "\n",
    "Creating these plots with Excel is tedious and prone to error. Objective of the `kendrick` Python package is to enable\n",
    "the automatic creation of Kendrick mass plots from raw data. This open source package is developed out in the open and will be made available for installation as soon as possible. \n",
    "\n",
    "If you are curious and can't wait for a pip installable package, take a look at our documentation and notebooks. "
   ]
  }
 ],
 "metadata": {
  "kernelspec": {
   "display_name": "Python 3",
   "language": "python",
   "name": "python3"
  }
 },
 "nbformat": 4,
 "nbformat_minor": 4
}
